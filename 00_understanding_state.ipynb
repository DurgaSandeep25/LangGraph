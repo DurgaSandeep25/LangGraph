{
 "cells": [
  {
   "cell_type": "markdown",
   "metadata": {},
   "source": [
    "# Overview\n",
    "In this notebook, we will learn about state in LangGraph\n",
    "\n",
    "State in LangGraph is a way to maintain and track information as an AI system processes data. Think of it as the \"system’s memory\", allowing it to remember and update information as it moves through different stages of a workflow, or graph."
   ]
  },
  {
   "cell_type": "markdown",
   "metadata": {},
   "source": [
    "### Basic State\n",
    "-  TypedDict means its a python module to define dictionaries with specific types for their keys and values. It's particularly useful when you want to create dictionary-like classes where you know the exact keys and their corresponding value types at runtime.\n",
    "- Below state can be incredibly useful in many scenarios, such as:\n",
    "    - Tracking the number of turns in a conversation\n",
    "    - Counting the occurrences of a specific event\n",
    "    - Maintaining a simple score, metric, or AI output"
   ]
  },
  {
   "cell_type": "code",
   "execution_count": 11,
   "metadata": {},
   "outputs": [],
   "source": [
    "from typing import TypedDict\n",
    "\n",
    "class BasicState(TypedDict):\n",
    "    count: int"
   ]
  },
  {
   "cell_type": "markdown",
   "metadata": {},
   "source": [
    "### Complex State\n",
    "-  This structure is particularly useful for:\n",
    "    - Chatbots that need to remember conversation history\n",
    "    - AI assistants that maintain context over multiple interactions\n",
    "    - Systems that need to track both quantitative (count) and qualitative (messages) data"
   ]
  },
  {
   "cell_type": "code",
   "execution_count": 8,
   "metadata": {},
   "outputs": [],
   "source": [
    "from typing import TypedDict, Annotated\n",
    "from langchain_core.messages import HumanMessage, AIMessage\n",
    "\n",
    "class ComplexState(TypedDict):\n",
    "    count: int\n",
    "    messages: Annotated[list[HumanMessage | AIMessage], \"conversation_history\"]\n"
   ]
  },
  {
   "cell_type": "markdown",
   "metadata": {},
   "source": [
    "### State Modification Functions\n",
    "Once we have our state structures defined, we need ways to modify them. In LangGraph, we typically \"create new state objects rather than modifying existing ones\", adhering to the principles of immutability\n",
    "\n",
    "Following functions demonstrate how we can:\n",
    "- Increment a counter in our basic state\n",
    "- Add new messages to our complex state, distinguishing between human and AI messages\n",
    "- Create new state objects that reflect these changes"
   ]
  },
  {
   "cell_type": "code",
   "execution_count": 10,
   "metadata": {},
   "outputs": [],
   "source": [
    "def increment_count(state: BasicState) -> BasicState:\n",
    "    return BasicState(count=state[\"count\"] + 1)\n",
    "\n",
    "def add_message(state: ComplexState, message: str, is_human: bool = True) -> ComplexState:\n",
    "    new_message = HumanMessage(content=message) if is_human else AIMessage(content=message)\n",
    "    return ComplexState(\n",
    "        count=state[\"count\"],\n",
    "        messages=state[\"messages\"] + [new_message]\n",
    "    )"
   ]
  },
  {
   "cell_type": "markdown",
   "metadata": {},
   "source": [
    "### Simple Graphs with States"
   ]
  },
  {
   "cell_type": "code",
   "execution_count": 20,
   "metadata": {},
   "outputs": [],
   "source": [
    "from langgraph.graph import StateGraph, END\n",
    "\n",
    "def create_simple_graph():\n",
    "    workflow = StateGraph(BasicState)\n",
    "    \n",
    "    def increment_node(state: BasicState):\n",
    "        return {\"count\": state[\"count\"] + 1}\n",
    "    \n",
    "    workflow.add_node(\"increment\", increment_node)\n",
    "    workflow.set_entry_point(\"increment\")\n",
    "    workflow.add_edge(\"increment\", END)\n",
    "    \n",
    "    return workflow.compile()\n"
   ]
  },
  {
   "cell_type": "markdown",
   "metadata": {},
   "source": [
    "### Complex graph with States"
   ]
  },
  {
   "cell_type": "code",
   "execution_count": 17,
   "metadata": {},
   "outputs": [],
   "source": [
    "def create_complex_graph():\n",
    "    workflow = StateGraph(ComplexState)\n",
    "    \n",
    "    def process_message(state: ComplexState):\n",
    "        last_message = state[\"messages\"][-1].content if state[\"messages\"] else \"No messages yet\"\n",
    "        response = f\"Received: {last_message}. Count is now {state['count'] + 1}\"\n",
    "        return {\n",
    "            \"count\": state[\"count\"] + 1,\n",
    "            \"messages\": state[\"messages\"] + [AIMessage(content=response)]\n",
    "        }\n",
    "    \n",
    "    workflow.add_node(\"process\", process_message)\n",
    "    workflow.set_entry_point(\"process\")\n",
    "    workflow.add_edge(\"process\", END)\n",
    "    \n",
    "    return workflow.compile()"
   ]
  },
  {
   "cell_type": "markdown",
   "metadata": {},
   "source": [
    "### Execution"
   ]
  },
  {
   "cell_type": "code",
   "execution_count": 21,
   "metadata": {},
   "outputs": [],
   "source": [
    "\n",
    "# Interactive Session\n",
    "def run_interactive_session():\n",
    "    print(\"Welcome to the Interactive LangGraph State Lesson!\")\n",
    "    \n",
    "    print(\"\\nStep 1: Basic State\")\n",
    "    basic_state = BasicState(count=0)\n",
    "    print(f\"Initial basic state: {basic_state}\")\n",
    "    \n",
    "    print(\"\\nStep 2: More Complex State\")\n",
    "    complex_state = ComplexState(count=0, messages=[])\n",
    "    print(f\"Initial complex state: {complex_state}\")\n",
    "    \n",
    "    print(\"\\nStep 3: State Modification\")\n",
    "    modified_basic = increment_count(basic_state)\n",
    "    print(f\"Modified basic state: {modified_basic}\")\n",
    "    \n",
    "    modified_complex = add_message(complex_state, \"Hello, LangGraph!\")\n",
    "    print(f\"Modified complex state: {modified_complex}\")\n",
    "    \n",
    "    print(\"\\nStep 4: Simple Graph with State\")\n",
    "    simple_graph = create_simple_graph()\n",
    "    result = simple_graph.invoke(BasicState(count=0))\n",
    "    print(f\"Simple graph result: {result}\")\n",
    "    \n",
    "    print(\"\\nStep 5: Complex Graph with State\")\n",
    "    complex_graph = create_complex_graph()\n",
    "    initial_state = ComplexState(count=0, messages=[HumanMessage(content=\"Hello, LangGraph!\")])\n",
    "    result = complex_graph.invoke(initial_state)\n",
    "    print(f\"Complex graph result: {result}\")"
   ]
  },
  {
   "cell_type": "code",
   "execution_count": 22,
   "metadata": {},
   "outputs": [
    {
     "name": "stdout",
     "output_type": "stream",
     "text": [
      "Welcome to the Interactive LangGraph State Lesson!\n",
      "\n",
      "Step 1: Basic State\n",
      "Initial basic state: {'count': 0}\n",
      "\n",
      "Step 2: More Complex State\n",
      "Initial complex state: {'count': 0, 'messages': []}\n",
      "\n",
      "Step 3: State Modification\n",
      "Modified basic state: {'count': 1}\n",
      "Modified complex state: {'count': 0, 'messages': [HumanMessage(content='Hello, LangGraph!')]}\n",
      "\n",
      "Step 4: Simple Graph with State\n",
      "Simple graph result: {'count': 1}\n",
      "\n",
      "Step 5: Complex Graph with State\n",
      "Complex graph result: {'count': 1, 'messages': [HumanMessage(content='Hello, LangGraph!'), AIMessage(content='Received: Hello, LangGraph!. Count is now 1')]}\n"
     ]
    }
   ],
   "source": [
    "run_interactive_session()"
   ]
  },
  {
   "cell_type": "code",
   "execution_count": null,
   "metadata": {},
   "outputs": [],
   "source": []
  }
 ],
 "metadata": {
  "kernelspec": {
   "display_name": "LangGraph",
   "language": "python",
   "name": "python3"
  },
  "language_info": {
   "codemirror_mode": {
    "name": "ipython",
    "version": 3
   },
   "file_extension": ".py",
   "mimetype": "text/x-python",
   "name": "python",
   "nbconvert_exporter": "python",
   "pygments_lexer": "ipython3",
   "version": "3.10.16"
  }
 },
 "nbformat": 4,
 "nbformat_minor": 2
}
