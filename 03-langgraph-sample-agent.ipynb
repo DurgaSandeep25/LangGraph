{
  "cells": [
    {
      "cell_type": "markdown",
      "metadata": {
        "id": "K_5AjNZyzx6J"
      },
      "source": [
        "# Understanding LangGraph"
      ]
    },
    {
      "cell_type": "markdown",
      "metadata": {
        "id": "8YNmQM5PzxAG"
      },
      "source": [
        "LangGraph is a special LangChain-built library that focuses on building intelligent AI Agents using graphs. Ie, agentic state machines."
      ]
    },
    {
      "cell_type": "markdown",
      "metadata": {
        "id": "Ri4iY0cqz2mr"
      },
      "source": [
        "We need these prerequisite libraries to run a graph visualization library (`pygraphviz`). We will use this library during this notebook to understand the structure of our graphs _but_ it is not required to use `langgraph`.\n",
        "\n",
        "source of this notebook: https://github.com/pinecone-io/examples/blob/master/learn/generation/langchain/langgraph/00-langgraph-intro.ipynb"
      ]
    },
    {
      "cell_type": "markdown",
      "metadata": {
        "id": "hITmdwQ7Qns0"
      },
      "source": [
        "## Graph State\n",
        "\n",
        "We will define a custom graph state to support our agent-oriented decision making. In this we will define:\n",
        "\n",
        "* our user `input` (ie the most recent message from the user)\n",
        "* `agent_out` which is used by the graph (and our final output) to consume/output agent outputs\n",
        "* `intermediate_steps` which is a list maintained over our graph runtime to keep track of the results of previous steps\n",
        "\n",
        "During each step in our graph we will be able to add to, modify, or extract these values from our state object."
      ]
    },
    {
      "cell_type": "code",
      "execution_count": null,
      "metadata": {
        "id": "x7Fj9KNjQvUq"
      },
      "outputs": [],
      "source": [
        "from typing import TypedDict, Annotated, List, Union\n",
        "from langchain_core.agents import AgentAction, AgentFinish\n",
        "import operator\n",
        "\n",
        "class AgentState(TypedDict):\n",
        "    input: str\n",
        "    agent_out: Union[AgentAction, AgentFinish, None]\n",
        "    intermediate_steps: Annotated[list[tuple[AgentAction, str]], operator.add]"
      ]
    },
    {
      "cell_type": "markdown",
      "metadata": {
        "id": "5KcxUIVh2jRq"
      },
      "source": [
        "## Emulate Search"
      ]
    },
    {
      "cell_type": "markdown",
      "metadata": {
        "id": "ub-P5EWL2lPA"
      },
      "source": [
        "To test a RAG-like agent we'll provide a tool that provide information as we would expect a search tool in a RAG agent to do."
      ]
    },
    {
      "cell_type": "code",
      "execution_count": 33,
      "metadata": {
        "id": "IS7G1n292sV8"
      },
      "outputs": [],
      "source": [
        "ehi_information = \"\"\"Title: EHI: End-to-end Learning of Hierarchical Index for\n",
        "Efficient Dense Retrieval\n",
        "Summary: Dense embedding-based retrieval is now the industry\n",
        "standard for semantic search and ranking problems, like obtaining relevant web\n",
        "documents for a given query. Such techniques use a two-stage process: (a)\n",
        "contrastive learning to train a dual encoder to embed both the query and\n",
        "documents and (b) approximate nearest neighbor search (ANNS) for finding similar\n",
        "documents for a given query. These two stages are disjoint; the learned\n",
        "embeddings might be ill-suited for the ANNS method and vice-versa, leading to\n",
        "suboptimal performance. In this work, we propose End-to-end Hierarchical\n",
        "Indexing -- EHI -- that jointly learns both the embeddings and the ANNS\n",
        "structure to optimize retrieval performance. EHI uses a standard dual encoder\n",
        "model for embedding queries and documents while learning an inverted file index\n",
        "(IVF) style tree structure for efficient ANNS. To ensure stable and efficient\n",
        "learning of discrete tree-based ANNS structure, EHI introduces the notion of\n",
        "dense path embedding that captures the position of a query/document in the tree.\n",
        "We demonstrate the effectiveness of EHI on several benchmarks, including\n",
        "de-facto industry standard MS MARCO (Dev set and TREC DL19) datasets. For\n",
        "example, with the same compute budget, EHI outperforms state-of-the-art (SOTA)\n",
        "in by 0.6% (MRR@10) on MS MARCO dev set and by 4.2% (nDCG@10) on TREC DL19\n",
        "benchmarks.\n",
        "Author(s): Ramnath Kumar, Anshul Mittal, Nilesh Gupta, Aditya Kusupati,\n",
        "Inderjit Dhillon, Prateek Jain\n",
        "Source: https://arxiv.org/pdf/2310.08891.pdf\"\"\""
      ]
    },
    {
      "cell_type": "markdown",
      "metadata": {
        "id": "zlVbgX39Rhxj"
      },
      "source": [
        "## Custom Tools\n",
        "\n",
        "We will define two tools for this agent, a `search` tool (which emulates our RAG component) and a `final_answer` tool — which is provides output in a specific format, ie:\n",
        "\n",
        "```json\n",
        "{\n",
        "    \"answer\": \"<LLM generated answer here>\",\n",
        "    \"source\": \"<LLM generated citation here>\"\n",
        "}\n",
        "```\n",
        "\n",
        "We define both using the `@tool` decorator from LangChain."
      ]
    },
    {
      "cell_type": "code",
      "execution_count": 2,
      "metadata": {
        "id": "SPcrbQfdRrda"
      },
      "outputs": [],
      "source": [
        "from langchain_core.tools import tool\n",
        "\n",
        "@tool(\"search\")\n",
        "def search_tool(query: str):\n",
        "    \"\"\"Searches for information on the topic of artificial intelligence (AI).\n",
        "    Cannot be used to research any other topics. Search query must be provided\n",
        "    in natural language and be verbose.\"\"\"\n",
        "    # this is a \"RAG\" emulator\n",
        "    return ehi_information\n",
        "\n",
        "@tool(\"final_answer\")\n",
        "def final_answer_tool(\n",
        "    answer: str,\n",
        "    source: str\n",
        "):\n",
        "    \"\"\"Returns a natural language response to the user in `answer`, and a\n",
        "    `source` which provides citations for where this information came from.\n",
        "    \"\"\"\n",
        "    return \"\""
      ]
    },
    {
      "cell_type": "code",
      "execution_count": null,
      "metadata": {},
      "outputs": [],
      "source": [
        "# This is conceptually similar to what the decorator is doing\n",
        "def search_tool(query: str):\n",
        "    \"\"\"Searches for information on the topic of artificial intelligence (AI)...\"\"\"\n",
        "    return ehi_information\n",
        "\n",
        "# The decorator essentially transforms it into something like this\n",
        "search_tool = tool(\"search\")(search_tool)"
      ]
    },
    {
      "cell_type": "markdown",
      "metadata": {
        "id": "9QoO2wrvmBHw"
      },
      "source": [
        "These tools will be triggered via OpenAI Tools (ie function calling). The LLM will be provided information on the schema (ie structure) of the function to be called, like that which we can see here:"
      ]
    },
    {
      "cell_type": "code",
      "execution_count": null,
      "metadata": {},
      "outputs": [],
      "source": [
        "search"
      ]
    },
    {
      "cell_type": "code",
      "execution_count": 3,
      "metadata": {
        "colab": {
          "base_uri": "https://localhost:8080/"
        },
        "id": "iAbQ4Tuz0qET",
        "outputId": "4ca983bb-9a98-4647-a9a3-6c9248b986d2"
      },
      "outputs": [
        {
          "data": {
            "text/plain": [
              "StructuredTool(name='search', description='search(query: str) - Searches for information on the topic of artificial intelligence (AI).\\n    Cannot be used to research any other topics. Search query must be provided\\n    in natural language and be verbose.', args_schema=<class 'pydantic.v1.main.searchSchema'>, func=<function search_tool at 0x000001E4D537B2E0>)"
            ]
          },
          "execution_count": 3,
          "metadata": {},
          "output_type": "execute_result"
        }
      ],
      "source": [
        "search_tool"
      ]
    },
    {
      "cell_type": "markdown",
      "metadata": {
        "id": "E8OsQ3tIS-_t"
      },
      "source": [
        "## Initialize Agent"
      ]
    },
    {
      "cell_type": "code",
      "execution_count": null,
      "metadata": {
        "id": "0gKxRe4tTBHX"
      },
      "outputs": [],
      "source": [
        "import os\n",
        "from langchain.agents import create_openai_tools_agent\n",
        "from langchain import hub\n",
        "from langchain_openai import ChatOpenAI\n",
        "from load_dotenv import load_dotenv\n",
        "\n",
        "load_dotenv()\n",
        "os.environ[\"OPENAI_API_KEY\"] = os.getenv(\"OPENAI_API_KEY\")\n",
        "\n",
        "llm = ChatOpenAI(temperature=0, model='gpt-4o-mini')\n",
        "\n",
        "prompt = hub.pull(\"hwchase17/openai-functions-agent\")\n",
        "\n",
        "# here we are binding the custom tools to openai llm model\n",
        "query_agent_runnable = create_openai_tools_agent(\n",
        "    llm=llm,\n",
        "    tools=[final_answer_tool, search_tool],\n",
        "    prompt=prompt\n",
        ")"
      ]
    },
    {
      "cell_type": "markdown",
      "metadata": {
        "id": "ESCSupKbTuVR"
      },
      "source": [
        "Test the agent quickly to confirm it is functional:"
      ]
    },
    {
      "cell_type": "code",
      "execution_count": 20,
      "metadata": {
        "colab": {
          "base_uri": "https://localhost:8080/"
        },
        "id": "p5xMQ8ajTxFQ",
        "outputId": "e7bf3e34-f751-42c8-c896-fc37f39a8e3c"
      },
      "outputs": [
        {
          "data": {
            "text/plain": [
              "[ToolAgentAction(tool='search', tool_input={'query': 'What are EHI embeddings in artificial intelligence?'}, log=\"\\nInvoking: `search` with `{'query': 'What are EHI embeddings in artificial intelligence?'}`\\n\\n\\n\", message_log=[AIMessage(content='', additional_kwargs={'tool_calls': [{'id': 'call_0Zfx0uJHrI4Hf991uFJFyW6H', 'function': {'arguments': '{\"query\":\"What are EHI embeddings in artificial intelligence?\"}', 'name': 'search'}, 'type': 'function'}]}, response_metadata={'token_usage': {'completion_tokens': 22, 'prompt_tokens': 148, 'total_tokens': 170, 'completion_tokens_details': {'accepted_prediction_tokens': 0, 'audio_tokens': 0, 'reasoning_tokens': 0, 'rejected_prediction_tokens': 0}, 'prompt_tokens_details': {'audio_tokens': 0, 'cached_tokens': 0}}, 'model_name': 'gpt-4o-mini', 'system_fingerprint': 'fp_13eed4fce1', 'finish_reason': 'tool_calls', 'logprobs': None}, id='run-bae5411a-b38b-4fb3-b26d-ff0a4d088375-0', tool_calls=[{'name': 'search', 'args': {'query': 'What are EHI embeddings in artificial intelligence?'}, 'id': 'call_0Zfx0uJHrI4Hf991uFJFyW6H'}])], tool_call_id='call_0Zfx0uJHrI4Hf991uFJFyW6H')]"
            ]
          },
          "execution_count": 20,
          "metadata": {},
          "output_type": "execute_result"
        }
      ],
      "source": [
        "# input keys are very important, it has to be exactly same as the keys in the prompt\n",
        "\n",
        "# this is the user input\n",
        "inputs = {\n",
        "    \"input\": \"what are EHI embeddings?\",\n",
        "    \"intermediate_steps\": []\n",
        "}\n",
        "agent_out = query_agent_runnable.invoke(inputs)\n",
        "agent_out"
      ]
    },
    {
      "cell_type": "code",
      "execution_count": 27,
      "metadata": {},
      "outputs": [
        {
          "data": {
            "text/plain": [
              "'search'"
            ]
          },
          "execution_count": 27,
          "metadata": {},
          "output_type": "execute_result"
        }
      ],
      "source": [
        "# which tool to call\n",
        "agent_out[-1].tool"
      ]
    },
    {
      "cell_type": "code",
      "execution_count": 22,
      "metadata": {
        "colab": {
          "base_uri": "https://localhost:8080/"
        },
        "id": "u7wUMr2BUBt7",
        "outputId": "18c0d1c5-9dd1-46ad-9524-e80c3d06f34a"
      },
      "outputs": [
        {
          "data": {
            "text/plain": [
              "{'id': 'call_0Zfx0uJHrI4Hf991uFJFyW6H',\n",
              " 'function': {'arguments': '{\"query\":\"What are EHI embeddings in artificial intelligence?\"}',\n",
              "  'name': 'search'},\n",
              " 'type': 'function'}"
            ]
          },
          "execution_count": 22,
          "metadata": {},
          "output_type": "execute_result"
        }
      ],
      "source": [
        "agent_out[-1].message_log[-1].additional_kwargs[\"tool_calls\"][-1]"
      ]
    },
    {
      "cell_type": "markdown",
      "metadata": {
        "id": "3giyC0tSoE_I"
      },
      "source": [
        "The agent won't perform the function calls themselvs, that is up to us and we will handle it in downstream actions through our agent graph.\n",
        "\n",
        "The information provided by `agent_out` will be used to decide whether we move to the `search` or `END` nodes of our graph. We'll also add a `error` handler node in case our agent fails to produce the output we need."
      ]
    },
    {
      "cell_type": "markdown",
      "metadata": {
        "id": "h6pAxC9kcY1F"
      },
      "source": [
        "## Define Nodes for Graph"
      ]
    },
    {
      "cell_type": "code",
      "execution_count": null,
      "metadata": {
        "id": "-JGJGvDVcbvq"
      },
      "outputs": [],
      "source": [
        "from langchain_core.agents import AgentFinish\n",
        "import json\n",
        "\n",
        "def run_query_agent(state: list):\n",
        "    print(\"> run_query_agent\")\n",
        "    agent_out = query_agent_runnable.invoke(state)\n",
        "    return {\"agent_out\": agent_out}\n",
        "\n",
        "def router(state: list):\n",
        "    # here string is the output, tool name or error\n",
        "    print(\"> router\")\n",
        "    if isinstance(state[\"agent_out\"], list):\n",
        "        return state[\"agent_out\"][-1].tool\n",
        "    else:\n",
        "        return \"error\"\n",
        "\n",
        "def execute_search(state: list):\n",
        "    print(\"> execute_search\")\n",
        "    action = state[\"agent_out\"]\n",
        "    tool_call = action[-1].message_log[-1].additional_kwargs[\"tool_calls\"][-1]\n",
        "    out = search_tool.invoke(\n",
        "        json.loads(tool_call[\"function\"][\"arguments\"])\n",
        "    )\n",
        "    return {\"intermediate_steps\": [{\"search\": str(out)}]}\n",
        "\n",
        "# finally, we will have a single LLM call that MUST use the final_answer structure\n",
        "final_answer_llm = llm.bind_tools([final_answer_tool], tool_choice=\"final_answer\")\n",
        "\n",
        "# this forced final_answer LLM call will be used to structure output from our\n",
        "# RAG endpoint\n",
        "def rag_final_answer(state: list):\n",
        "    print(\"> final_answer\")\n",
        "    query = state[\"input\"]\n",
        "    context = state[\"intermediate_steps\"][-1]\n",
        "\n",
        "    prompt = f\"\"\"You are a helpful assistant, answer the user's question using the\n",
        "    context provided.\n",
        "\n",
        "    CONTEXT: {context}\n",
        "\n",
        "    QUESTION: {query}\n",
        "    \"\"\"\n",
        "    out = final_answer_llm.invoke(prompt)\n",
        "    function_call = out.additional_kwargs[\"tool_calls\"][-1][\"function\"][\"arguments\"]\n",
        "    return {\"agent_out\": function_call}\n",
        "\n",
        "# we use the same forced final_answer LLM call to handle incorrectly formatted\n",
        "# output from our query_agent\n",
        "def handle_error(state: list):\n",
        "    print(\"> handle_error\")\n",
        "    query = state[\"input\"]\n",
        "    prompt = f\"\"\"You are a helpful assistant, answer the user's question.\n",
        "\n",
        "    QUESTION: {query}\n",
        "    \"\"\"\n",
        "    out = final_answer_llm.invoke(prompt)\n",
        "    function_call = out.additional_kwargs[\"tool_calls\"][-1][\"function\"][\"arguments\"]\n",
        "    return {\"agent_out\": function_call}"
      ]
    },
    {
      "cell_type": "markdown",
      "metadata": {
        "id": "zwv4EsTKeZzh"
      },
      "source": [
        "## Define Graph"
      ]
    },
    {
      "cell_type": "markdown",
      "metadata": {
        "id": "b1Fd--b9tfYC"
      },
      "source": [
        "Our graph is constructed of **nodes** and **edges**. A node represents a function (one of those we just defined above) whereas an edge allows us to travel from one node to another.\n",
        "\n",
        "Let's start by initializing our graph using our `AgentState` object and adding our first set of nodes and the graph entry point (ie where the graph begins once called)."
      ]
    },
    {
      "cell_type": "markdown",
      "metadata": {
        "id": "hcxI1fvIuk56"
      },
      "source": [
        "In addition to our nodes we have our \"one-way\" edges — that is, once node X is called the state must continue to node Y as defined by these edges. We define these using:\n",
        "\n",
        "```python\n",
        "graph.add_edge(X, Y)\n",
        "```\n",
        "\n",
        "If `X` or `Y` are defined nodes in our graph we pass the name of that node in string format. So, if we want to add an edge that navigates from our `\"search\"` node to our `\"rag_final_answer\"` node, we do:\n",
        "\n",
        "```python\n",
        "graph.add_edge(\"search\", \"rag_final_answer\")\n",
        "```\n",
        "\n",
        "We will also have an _end node_ in our graph — we have not defined this end node as it is imported as a specific graph object `END`. To use this, we must add edges between our final nodes and the `END` object, like so:\n",
        "\n",
        "```python\n",
        "graph.add_edge(\"rag_final_answer\", END)\n",
        "```\n",
        "\n",
        "When the `END` node is called, our graph completes."
      ]
    },
    {
      "cell_type": "code",
      "execution_count": 47,
      "metadata": {},
      "outputs": [],
      "source": [
        "from langgraph.checkpoint.memory import MemorySaver\n",
        "memory = MemorySaver()"
      ]
    },
    {
      "cell_type": "code",
      "execution_count": 57,
      "metadata": {
        "id": "LAkcBE5pebXv"
      },
      "outputs": [],
      "source": [
        "from langgraph.graph import StateGraph, END\n",
        "\n",
        "graph = StateGraph(AgentState)\n",
        "\n",
        "graph.add_node(\"query_agent\", run_query_agent)\n",
        "graph.add_node(\"search\", execute_search)\n",
        "graph.add_node(\"error\", handle_error)\n",
        "graph.add_node(\"rag_final_answer\", rag_final_answer)\n",
        "\n",
        "graph.set_entry_point(\"query_agent\")\n",
        "\n",
        "# conditional edges are controlled by our router\n",
        "graph.add_conditional_edges(\n",
        "    start_key=\"query_agent\",  # where in graph to start\n",
        "    condition=router,  # function to determine which node is called\n",
        "    conditional_edge_mapping={\n",
        "        \"search\": \"search\",\n",
        "        \"error\": \"error\",\n",
        "        \"final_answer\": END\n",
        "    }\n",
        ")\n",
        "graph.add_edge(\"search\", \"rag_final_answer\")\n",
        "graph.add_edge(\"error\", END)\n",
        "graph.add_edge(\"rag_final_answer\", END)\n",
        "\n",
        "runnable = graph.compile()"
      ]
    },
    {
      "cell_type": "code",
      "execution_count": 58,
      "metadata": {
        "colab": {
          "base_uri": "https://localhost:8080/",
          "height": 865
        },
        "id": "EmwkoQkthb__",
        "outputId": "e7ec1501-557f-4ec6-f604-8764dc90a78e"
      },
      "outputs": [
        {
          "data": {
            "image/png": "[encoded data removed]",
            "text/plain": [
              "<IPython.core.display.Image object>"
            ]
          },
          "execution_count": 58,
          "metadata": {},
          "output_type": "execute_result"
        }
      ],
      "source": [
        "from IPython.display import Image\n",
        "\n",
        "Image(runnable.get_graph().draw_png())"
      ]
    },
    {
      "cell_type": "code",
      "execution_count": 72,
      "metadata": {
        "colab": {
          "base_uri": "https://localhost:8080/"
        },
        "id": "5DuDCW775wkC",
        "outputId": "4996eddf-1c0e-4bf1-addf-8522328f6a4a"
      },
      "outputs": [
        {
          "name": "stdout",
          "output_type": "stream",
          "text": [
            "> run_query_agent\n",
            "> router\n",
            "> execute_search\n",
            "> final_answer\n"
          ]
        }
      ],
      "source": [
        "from langchain_core.messages import HumanMessage\n",
        "out = runnable.invoke({\n",
        "    \"input\": \"what is AI?\"\n",
        "})"
      ]
    },
    {
      "cell_type": "code",
      "execution_count": 71,
      "metadata": {},
      "outputs": [
        {
          "data": {
            "text/plain": [
              "{'input': 'what is AI?',\n",
              " 'agent_out': '{\"answer\":\"Artificial Intelligence (AI) refers to the simulation of human intelligence in machines that are programmed to think and learn like humans. It encompasses a variety of technologies and methodologies, including machine learning, natural language processing, robotics, and computer vision, among others. AI systems can perform tasks that typically require human intelligence, such as understanding language, recognizing patterns, solving problems, and making decisions.\",\"source\":\"General knowledge on AI.\"}',\n",
              " 'intermediate_steps': [{'search': 'Title: EHI: End-to-end Learning of Hierarchical Index for\\nEfficient Dense Retrieval\\nSummary: Dense embedding-based retrieval is now the industry\\nstandard for semantic search and ranking problems, like obtaining relevant web\\ndocuments for a given query. Such techniques use a two-stage process: (a)\\ncontrastive learning to train a dual encoder to embed both the query and\\ndocuments and (b) approximate nearest neighbor search (ANNS) for finding similar\\ndocuments for a given query. These two stages are disjoint; the learned\\nembeddings might be ill-suited for the ANNS method and vice-versa, leading to\\nsuboptimal performance. In this work, we propose End-to-end Hierarchical\\nIndexing -- EHI -- that jointly learns both the embeddings and the ANNS\\nstructure to optimize retrieval performance. EHI uses a standard dual encoder\\nmodel for embedding queries and documents while learning an inverted file index\\n(IVF) style tree structure for efficient ANNS. To ensure stable and efficient\\nlearning of discrete tree-based ANNS structure, EHI introduces the notion of\\ndense path embedding that captures the position of a query/document in the tree.\\nWe demonstrate the effectiveness of EHI on several benchmarks, including\\nde-facto industry standard MS MARCO (Dev set and TREC DL19) datasets. For\\nexample, with the same compute budget, EHI outperforms state-of-the-art (SOTA)\\nin by 0.6% (MRR@10) on MS MARCO dev set and by 4.2% (nDCG@10) on TREC DL19\\nbenchmarks.\\nAuthor(s): Ramnath Kumar, Anshul Mittal, Nilesh Gupta, Aditya Kusupati,\\nInderjit Dhillon, Prateek Jain\\nSource: https://arxiv.org/pdf/2310.08891.pdf'}]}"
            ]
          },
          "execution_count": 71,
          "metadata": {},
          "output_type": "execute_result"
        }
      ],
      "source": [
        "out"
      ]
    },
    {
      "cell_type": "code",
      "execution_count": 77,
      "metadata": {},
      "outputs": [
        {
          "name": "stdout",
          "output_type": "stream",
          "text": [
            "> run_query_agent\n",
            "> router\n",
            "> execute_search\n",
            "> final_answer\n"
          ]
        }
      ],
      "source": [
        "new_out = runnable.invoke({\n",
        "    \"input\": \"Did you search about EHI before\",\n",
        "    \"chat_history\": [\n",
        "        {\"role\": \"user\", \"content\": out['input']},\n",
        "        {\"role\": \"assistant\", \"content\": out['agent_out']}]\n",
        "})"
      ]
    },
    {
      "cell_type": "code",
      "execution_count": 78,
      "metadata": {},
      "outputs": [
        {
          "data": {
            "text/plain": [
              "{'input': 'Did you search about EHI before',\n",
              " 'agent_out': '{\"answer\":\"Yes, I found information about EHI, which stands for End-to-end Hierarchical Indexing. It focuses on improving dense retrieval methods by jointly learning embeddings and the approximate nearest neighbor search (ANNS) structure. This approach optimizes retrieval performance and has shown to outperform state-of-the-art methods on several benchmarks.\",\"source\":\"https://arxiv.org/pdf/2310.08891.pdf\"}',\n",
              " 'intermediate_steps': [{'search': 'Title: EHI: End-to-end Learning of Hierarchical Index for\\nEfficient Dense Retrieval\\nSummary: Dense embedding-based retrieval is now the industry\\nstandard for semantic search and ranking problems, like obtaining relevant web\\ndocuments for a given query. Such techniques use a two-stage process: (a)\\ncontrastive learning to train a dual encoder to embed both the query and\\ndocuments and (b) approximate nearest neighbor search (ANNS) for finding similar\\ndocuments for a given query. These two stages are disjoint; the learned\\nembeddings might be ill-suited for the ANNS method and vice-versa, leading to\\nsuboptimal performance. In this work, we propose End-to-end Hierarchical\\nIndexing -- EHI -- that jointly learns both the embeddings and the ANNS\\nstructure to optimize retrieval performance. EHI uses a standard dual encoder\\nmodel for embedding queries and documents while learning an inverted file index\\n(IVF) style tree structure for efficient ANNS. To ensure stable and efficient\\nlearning of discrete tree-based ANNS structure, EHI introduces the notion of\\ndense path embedding that captures the position of a query/document in the tree.\\nWe demonstrate the effectiveness of EHI on several benchmarks, including\\nde-facto industry standard MS MARCO (Dev set and TREC DL19) datasets. For\\nexample, with the same compute budget, EHI outperforms state-of-the-art (SOTA)\\nin by 0.6% (MRR@10) on MS MARCO dev set and by 4.2% (nDCG@10) on TREC DL19\\nbenchmarks.\\nAuthor(s): Ramnath Kumar, Anshul Mittal, Nilesh Gupta, Aditya Kusupati,\\nInderjit Dhillon, Prateek Jain\\nSource: https://arxiv.org/pdf/2310.08891.pdf'}]}"
            ]
          },
          "execution_count": 78,
          "metadata": {},
          "output_type": "execute_result"
        }
      ],
      "source": [
        "new_out"
      ]
    },
    {
      "cell_type": "code",
      "execution_count": 35,
      "metadata": {
        "colab": {
          "base_uri": "https://localhost:8080/"
        },
        "id": "xjbPRhk8dhfs",
        "outputId": "92856ccf-736b-4126-c6f7-af82ccfdbf4a"
      },
      "outputs": [
        {
          "name": "stdout",
          "output_type": "stream",
          "text": [
            "{\"answer\":\"Artificial Intelligence (AI) refers to the simulation of human intelligence in machines that are programmed to think and learn like humans. It encompasses a variety of technologies and methodologies, including machine learning, natural language processing, robotics, and computer vision, among others. AI systems can perform tasks that typically require human intelligence, such as understanding language, recognizing patterns, solving problems, and making decisions.\",\"source\":\"General knowledge on AI.\"}\n"
          ]
        }
      ],
      "source": [
        "print(out[\"agent_out\"])"
      ]
    },
    {
      "cell_type": "code",
      "execution_count": 37,
      "metadata": {
        "colab": {
          "base_uri": "https://localhost:8080/"
        },
        "id": "a21f9VneePw_",
        "outputId": "18a67793-9b45-4e63-a35a-477226265e3d"
      },
      "outputs": [
        {
          "name": "stdout",
          "output_type": "stream",
          "text": [
            "> run_query_agent\n",
            "> router\n",
            "> execute_search\n",
            "> final_answer\n",
            "{\"answer\":\"EHI embeddings refer to the dense embeddings learned through the End-to-end Hierarchical Indexing (EHI) framework. In this framework, a dual encoder model is used to jointly learn embeddings for both queries and documents. The embeddings are optimized alongside the structure of an inverted file index (IVF) style tree, which is designed for efficient approximate nearest neighbor search (ANNS). This joint learning process aims to enhance retrieval performance by ensuring that the embeddings are well-suited for the ANNS method, addressing the limitations of traditional disjoint approaches.\",\"source\":\"https://arxiv.org/pdf/2310.08891.pdf\"}\n"
          ]
        }
      ],
      "source": [
        "out = runnable.invoke({\n",
        "    \"input\": \"what are EHI embeddings?\",\n",
        "    \"chat_history\": []\n",
        "})\n",
        "print(out[\"agent_out\"])"
      ]
    },
    {
      "cell_type": "code",
      "execution_count": 38,
      "metadata": {
        "colab": {
          "base_uri": "https://localhost:8080/"
        },
        "id": "dcpoPxOMZmZQ",
        "outputId": "2c3b19bf-4271-4e67-bd25-025924774cb7"
      },
      "outputs": [
        {
          "name": "stdout",
          "output_type": "stream",
          "text": [
            "> run_query_agent\n",
            "> router\n",
            "> execute_search\n",
            "> final_answer\n",
            "{\"answer\":\"EHI, or End-to-end Hierarchical Indexing, introduces a novel approach to learning embeddings for queries and documents in the context of dense retrieval. It utilizes a dual encoder model to create these embeddings while simultaneously learning an inverted file index (IVF) style tree structure for efficient approximate nearest neighbor search (ANNS). This joint learning process aims to optimize retrieval performance by ensuring that the embeddings are well-suited for the ANNS method. A key innovation in EHI is the concept of dense path embedding, which captures the position of a query or document within the tree structure, facilitating stable and efficient learning of the discrete tree-based ANNS structure. This approach has shown to outperform state-of-the-art methods on benchmark datasets like MS MARCO and TREC DL19.\",\"source\":\"https://arxiv.org/pdf/2310.08891.pdf\"}\n"
          ]
        }
      ],
      "source": [
        "out = runnable.invoke({\n",
        "    \"input\": \"can you tell me about EHI embeddings?\",\n",
        "    \"chat_history\": []\n",
        "})\n",
        "print(out[\"agent_out\"])"
      ]
    },
    {
      "cell_type": "code",
      "execution_count": 39,
      "metadata": {
        "colab": {
          "base_uri": "https://localhost:8080/"
        },
        "id": "reWvgJxJfjlo",
        "outputId": "7d2e221f-b88c-47bc-cd11-a91ae4f98f58"
      },
      "outputs": [
        {
          "name": "stdout",
          "output_type": "stream",
          "text": [
            "> run_query_agent\n",
            "> router\n",
            "> handle_error\n",
            "{\"answer\":\"Hello! How can I assist you today?\",\"source\":\"\"}\n"
          ]
        }
      ],
      "source": [
        "out = runnable.invoke({\n",
        "    \"input\": \"hi\",\n",
        "    \"chat_history\": []\n",
        "})\n",
        "print(out[\"agent_out\"])"
      ]
    },
    {
      "cell_type": "code",
      "execution_count": 40,
      "metadata": {
        "colab": {
          "base_uri": "https://localhost:8080/"
        },
        "id": "5Xhdimwmgezx",
        "outputId": "8c109869-7f01-437c-cc5f-bb2d4bf24826"
      },
      "outputs": [
        {
          "name": "stdout",
          "output_type": "stream",
          "text": [
            "> run_query_agent\n",
            "> router\n",
            "> handle_error\n",
            "{\"answer\":\"Sure! How can I assist you today?\",\"source\":\"\"}\n"
          ]
        }
      ],
      "source": [
        "out = runnable.invoke({\n",
        "    \"input\": \"hi, please don't respond to me with a `source`\",\n",
        "    \"chat_history\": []\n",
        "})\n",
        "print(out[\"agent_out\"])"
      ]
    },
    {
      "cell_type": "code",
      "execution_count": 18,
      "metadata": {
        "id": "BvJB9RMGgrze"
      },
      "outputs": [],
      "source": []
    }
  ],
  "metadata": {
    "colab": {
      "provenance": []
    },
    "kernelspec": {
      "display_name": "LangGraph",
      "language": "python",
      "name": "python3"
    },
    "language_info": {
      "codemirror_mode": {
        "name": "ipython",
        "version": 3
      },
      "file_extension": ".py",
      "mimetype": "text/x-python",
      "name": "python",
      "nbconvert_exporter": "python",
      "pygments_lexer": "ipython3",
      "version": "3.10.16"
    }
  },
  "nbformat": 4,
  "nbformat_minor": 0
}
