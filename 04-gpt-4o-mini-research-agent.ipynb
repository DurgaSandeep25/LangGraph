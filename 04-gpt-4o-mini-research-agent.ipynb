{
  "cells": [
    {
      "cell_type": "markdown",
      "metadata": {},
      "source": [
        "[![Open In Colab](https://colab.research.google.com/assets/colab-badge.svg)](https://colab.research.google.com/github/pinecone-io/examples/blob/master/learn/generation/langchain/langgraph/01-gpt-4o-research-agent.ipynb) [![Open nbviewer](https://raw.githubusercontent.com/pinecone-io/examples/master/assets/nbviewer-shield.svg)](https://nbviewer.org/github/pinecone-io/examples/blob/master/learn/generation/langchain/langgraph/01-gpt-4o-research-agent.ipynb)"
      ]
    },
    {
      "cell_type": "markdown",
      "metadata": {
        "id": "_PFp0JhOWCU5"
      },
      "source": [
        "# GPT-4o Research Agent in LangGraph"
      ]
    },
    {
      "cell_type": "markdown",
      "metadata": {
        "id": "EckNKuhXWHEJ"
      },
      "source": [
        "**Research agents** are multi-step LLM agents that through multiple steps can produce in depth research reports on a topic of our choosing. Most research agents are packed up into their own frameworks, like BlockAGI and others.\n",
        "\n",
        "In this example, we want to demonstrate how we can build our own AI research agent using `gpt-4o`, Pinecone, LangGraph, arXiv, and Google via the SerpAPI."
      ]
    },
    {
      "cell_type": "code",
      "execution_count": null,
      "metadata": {},
      "outputs": [],
      "source": [
        "# pip install cohere==5.9.0 # to resolve error with 5.13.12"
      ]
    },
    {
      "cell_type": "markdown",
      "metadata": {
        "id": "bABCOVLFdrW4"
      },
      "source": [
        "## Research Agent Overview"
      ]
    },
    {
      "cell_type": "markdown",
      "metadata": {
        "id": "_t1rZK3FdtLh"
      },
      "source": [
        "Our research agent will consist of a function calling AI agent that has access to several tools that it can use to find information on a particular topic. It will be able to use several tools over multiple steps, meaning it can find information on one topic, broaden the scope of knowledge on this topic and _even_ investigate parallel topics where relevant.\n",
        "\n",
        "The tools we will be using are:\n",
        "\n",
        "* **ArXiv paper fetch**: Given an arXiv paper ID, this tool provides our agent with the abstract of the paper.\n",
        "* **Web search**: This tool provides our agent with access to Google search for more generalized queries.\n",
        "* **RAG search**: We will create a knowledge base containing AI arXiv papers. This tool provides our agent with access to this knowledge.\n",
        "* **RAG search with filter**: Sometimes our agent may need more information from a specific paper, this tool allows our agent to do just that.\n",
        "* **Final answer**: We create a custom final answer tool that forces our agent to output information in a specific format like:\n",
        "\n",
        "```\n",
        "INTRODUCTION\n",
        "------------\n",
        "<some intro to our report>\n",
        "\n",
        "RESEARCH STEPS\n",
        "--------------\n",
        "<the steps the agent took during research>\n",
        "\n",
        "REPORT\n",
        "------\n",
        "<the report main body>\n",
        "\n",
        "CONCLUSION\n",
        "----------\n",
        "<the report conclusion>\n",
        "\n",
        "SOURCES\n",
        "-------\n",
        "<any sources the agent used>\n",
        "```"
      ]
    },
    {
      "cell_type": "markdown",
      "metadata": {
        "id": "vovHYoM-AdbU"
      },
      "source": [
        "## Setup Knowledge Base"
      ]
    },
    {
      "cell_type": "markdown",
      "metadata": {
        "id": "YEtKvy4_AgLy"
      },
      "source": [
        "We'll be running our agent against a knowledge base — which requires a Pinecone index to be built.\n",
        "\n",
        "You can, if needed, skip this step and replace the `search` tool with a placeholder value if wanting to quickly test the structure of a RAG agent _without_ the RAG.\n",
        "\n",
        "If you want full functionality here, you do need to run this section — but we'll make it quick."
      ]
    },
    {
      "cell_type": "markdown",
      "metadata": {
        "id": "ohBxmFyTBFT0"
      },
      "source": [
        "### Download a Dataset"
      ]
    },
    {
      "cell_type": "markdown",
      "metadata": {
        "id": "g1ufvA8hBKHx"
      },
      "source": [
        "The first thing we need for an agent using RAG is somewhere we want to pull knowledge from. We will use v2 of the AI ArXiv dataset, available on Hugging Face Datasets at [`jamescalam/ai-arxiv2-chunks`](https://huggingface.co/datasets/jamescalam/ai-arxiv2-chunks).\n",
        "\n",
        "Note: we're using the prechunked dataset. For the raw version see [`jamescalam/ai-arxiv2`](https://huggingface.co/datasets/jamescalam/ai-arxiv2)."
      ]
    },
    {
      "cell_type": "code",
      "execution_count": 2,
      "metadata": {
        "colab": {
          "base_uri": "https://localhost:8080/"
        },
        "id": "ehcjNQ49BBuI",
        "outputId": "9b05f125-f2cd-4cf0-b6fd-a84d5a73b974"
      },
      "outputs": [
        {
          "name": "stderr",
          "output_type": "stream",
          "text": [
            "c:\\Users\\sande\\miniconda3\\envs\\LangGraph\\lib\\site-packages\\tqdm\\auto.py:21: TqdmWarning: IProgress not found. Please update jupyter and ipywidgets. See https://ipywidgets.readthedocs.io/en/stable/user_install.html\n",
            "  from .autonotebook import tqdm as notebook_tqdm\n"
          ]
        },
        {
          "data": {
            "text/plain": [
              "Dataset({\n",
              "    features: ['id', 'title', 'content', 'prechunk_id', 'postchunk_id', 'arxiv_id', 'references'],\n",
              "    num_rows: 209760\n",
              "})"
            ]
          },
          "execution_count": 2,
          "metadata": {},
          "output_type": "execute_result"
        }
      ],
      "source": [
        "from datasets import load_dataset\n",
        "\n",
        "dataset = load_dataset(\"jamescalam/ai-arxiv2-semantic-chunks\", split=\"train\")\n",
        "dataset"
      ]
    },
    {
      "cell_type": "code",
      "execution_count": 3,
      "metadata": {
        "colab": {
          "base_uri": "https://localhost:8080/"
        },
        "id": "pElKCcVSSddB",
        "outputId": "91378db1-cec5-4d65-d872-bdd6e77f822a"
      },
      "outputs": [
        {
          "data": {
            "text/plain": [
              "{'id': '2401.04088#0',\n",
              " 'title': 'Mixtral of Experts',\n",
              " 'content': '4 2 0 2 n a J 8 ] G L . s c [ 1 v 8 8 0 4 0 . 1 0 4 2 : v i X r a # Mixtral of Experts Albert Q. Jiang, Alexandre Sablayrolles, Antoine Roux, Arthur Mensch, Blanche Savary, Chris Bamford, Devendra Singh Chaplot, Diego de las Casas, Emma Bou Hanna, Florian Bressand, Gianna Lengyel, Guillaume Bour, Guillaume Lample, LÃ©lio Renard Lavaud, Lucile Saulnier, Marie-Anne Lachaux, Pierre Stock, Sandeep Subramanian, Sophia Yang, Szymon Antoniak, Teven Le Scao, ThÃ©ophile Gervet, Thibaut Lavril, Thomas Wang, TimothÃ©e Lacroix, William El Sayed Abstract We introduce Mixtral 8x7B, a Sparse Mixture of Experts (SMoE) language model. Mixtral has the same architecture as Mistral 7B, with the difference that each layer is composed of 8 feedforward blocks (i.e. experts). For every token, at each layer, a router network selects two experts to process the current state and combine their outputs. Even though each token only sees two experts, the selected experts can be different at each timestep. As a result, each token has access to 47B parameters, but only uses 13B active parameters during inference. Mixtral was trained with a context size of 32k tokens and it outperforms or matches Llama 2 70B and GPT-3.5 across all evaluated benchmarks. In particular, Mixtral vastly outperforms Llama 2 70B on mathematics, code generation, and multilingual benchmarks. We also provide a model fine- tuned to follow instructions, Mixtral 8x7B â Instruct, that surpasses GPT-3.5 Turbo, Claude-2.1, Gemini Pro, and Llama 2 70B â chat model on human bench- marks. Both the base and instruct models are released under the Apache 2.0 license.',\n",
              " 'prechunk_id': '',\n",
              " 'postchunk_id': '2401.04088#1',\n",
              " 'arxiv_id': '2401.04088',\n",
              " 'references': ['1905.07830']}"
            ]
          },
          "execution_count": 3,
          "metadata": {},
          "output_type": "execute_result"
        }
      ],
      "source": [
        "dataset[0]"
      ]
    },
    {
      "cell_type": "code",
      "execution_count": 4,
      "metadata": {},
      "outputs": [
        {
          "data": {
            "text/plain": [
              "{'id': '2401.04088#1',\n",
              " 'title': 'Mixtral of Experts',\n",
              " 'content': 'Code: https://github.com/mistralai/mistral-src Webpage: https://mistral.ai/news/mixtral-of-experts/ # Introduction In this paper, we present Mixtral 8x7B, a sparse mixture of experts model (SMoE) with open weights, licensed under Apache 2.0. Mixtral outperforms Llama 2 70B and GPT-3.5 on most benchmarks. As it only uses a subset of its parameters for every token, Mixtral allows faster inference speed at low batch-sizes, and higher throughput at large batch-sizes. Mixtral is a sparse mixture-of-experts network. It is a decoder-only model where the feedforward block picks from a set of 8 distinct groups of parameters. At every layer, for every token, a router network chooses two of these groups (the â',\n",
              " 'prechunk_id': '2401.04088#0',\n",
              " 'postchunk_id': '2401.04088#2',\n",
              " 'arxiv_id': '2401.04088',\n",
              " 'references': ['1905.07830']}"
            ]
          },
          "execution_count": 4,
          "metadata": {},
          "output_type": "execute_result"
        }
      ],
      "source": [
        "dataset[1]"
      ]
    },
    {
      "cell_type": "markdown",
      "metadata": {
        "id": "vJjZMEO_HmOi"
      },
      "source": [
        "Building a knowledge base:"
      ]
    },
    {
      "cell_type": "code",
      "execution_count": 6,
      "metadata": {
        "id": "LjsIFVbtKBu4"
      },
      "outputs": [],
      "source": [
        "import os\n",
        "from getpass import getpass\n",
        "from semantic_router.encoders import OpenAIEncoder\n",
        "from load_dotenv import load_dotenv\n",
        "\n",
        "load_dotenv()\n",
        "os.environ[\"OPENAI_API_KEY\"] = os.getenv(\"OPENAI_API_KEY\") or getpass(\"OpenAI API key: \")\n",
        "\n",
        "encoder = OpenAIEncoder(name=\"text-embedding-3-small\")"
      ]
    },
    {
      "cell_type": "code",
      "execution_count": 7,
      "metadata": {
        "id": "J233t2I4HmjD"
      },
      "outputs": [],
      "source": [
        "from pinecone import Pinecone\n",
        "\n",
        "# initialize connection to pinecone (get API key at app.pinecone.io)\n",
        "api_key = os.getenv(\"PINECONE_API_KEY\") or getpass(\"Pinecone API key: \")\n",
        "\n",
        "# configure client\n",
        "pc = Pinecone(api_key=api_key)"
      ]
    },
    {
      "cell_type": "code",
      "execution_count": 16,
      "metadata": {
        "id": "actWflaEKgVb"
      },
      "outputs": [],
      "source": [
        "from pinecone import ServerlessSpec\n",
        "\n",
        "spec = ServerlessSpec(\n",
        "    cloud=\"aws\", region=\"us-east-1\"  # us-east-1\n",
        ")"
      ]
    },
    {
      "cell_type": "code",
      "execution_count": 17,
      "metadata": {
        "colab": {
          "base_uri": "https://localhost:8080/"
        },
        "id": "jWijfk8LKil7",
        "outputId": "44740df7-25b2-455f-9856-bd24e8f11b1d"
      },
      "outputs": [
        {
          "data": {
            "text/plain": [
              "1536"
            ]
          },
          "execution_count": 17,
          "metadata": {},
          "output_type": "execute_result"
        }
      ],
      "source": [
        "dims = len(encoder([\"some random text\"])[0])\n",
        "dims"
      ]
    },
    {
      "cell_type": "code",
      "execution_count": 18,
      "metadata": {
        "colab": {
          "base_uri": "https://localhost:8080/"
        },
        "id": "V-GHzWs3KlJn",
        "outputId": "8636719c-ae83-451b-e230-f2bb209d67a9"
      },
      "outputs": [
        {
          "data": {
            "text/plain": [
              "{'dimension': 1536,\n",
              " 'index_fullness': 0.0,\n",
              " 'namespaces': {},\n",
              " 'total_vector_count': 0}"
            ]
          },
          "execution_count": 18,
          "metadata": {},
          "output_type": "execute_result"
        }
      ],
      "source": [
        "import time\n",
        "\n",
        "index_name = \"gpt-4o-mini-research-agent\"\n",
        "\n",
        "# check if index already exists (it shouldn't if this is first time)\n",
        "if index_name not in pc.list_indexes().names():\n",
        "    # if does not exist, create index\n",
        "    pc.create_index(\n",
        "        index_name,\n",
        "        dimension=dims,  # dimensionality of embed 3\n",
        "        metric='dotproduct',\n",
        "        spec=spec\n",
        "    )\n",
        "    # wait for index to be initialized\n",
        "    while not pc.describe_index(index_name).status['ready']:\n",
        "        time.sleep(1)\n",
        "\n",
        "# connect to index\n",
        "index = pc.Index(index_name)\n",
        "time.sleep(1)\n",
        "# view index stats\n",
        "index.describe_index_stats()"
      ]
    },
    {
      "cell_type": "code",
      "execution_count": 19,
      "metadata": {},
      "outputs": [
        {
          "data": {
            "text/plain": [
              "['gpt-4o-mini-research-agent']"
            ]
          },
          "execution_count": 19,
          "metadata": {},
          "output_type": "execute_result"
        }
      ],
      "source": [
        "pc.list_indexes().names()"
      ]
    },
    {
      "cell_type": "markdown",
      "metadata": {
        "id": "vwNPeBbZK0hx"
      },
      "source": [
        "Populate our knowledge base:"
      ]
    },
    {
      "cell_type": "code",
      "execution_count": 20,
      "metadata": {
        "colab": {
          "base_uri": "https://localhost:8080/",
          "height": 69,
          "referenced_widgets": [
            "925f65b6b0cc47be803c021f644a8f84",
            "24a571b8cc864f60bea7ae90ef331b21",
            "45580486ce0742b29d0de17850c42060",
            "f1f07bc63a234590ac229d63217e197a",
            "a6d67d04d1c8432c8840f411027a0e79",
            "c52a55d3643b4f1c83bdf1b1b5fce242",
            "7de73bce9c0540e2b3b2c599d57ae215",
            "84c25583658a4f4caeedbc19dd29457a",
            "a9594c4de9734895862a48f90bc8c621",
            "48ec484f11324501b1020314d4989da6",
            "bfecdc3138334cd1adcd055f338060d1"
          ]
        },
        "id": "5iQ2YJPeK2Us",
        "outputId": "823fcf4f-3735-4a85-e041-0b87df7bdb56"
      },
      "outputs": [
        {
          "name": "stderr",
          "output_type": "stream",
          "text": [
            "100%|██████████| 79/79 [03:08<00:00,  2.39s/it]\n"
          ]
        }
      ],
      "source": [
        "from tqdm.auto import tqdm\n",
        "\n",
        "# easier to work with dataset as pandas dataframe\n",
        "data = dataset.to_pandas().iloc[:10000]\n",
        "\n",
        "batch_size = 128\n",
        "\n",
        "for i in tqdm(range(0, len(data), batch_size)):\n",
        "    i_end = min(len(data), i+batch_size)\n",
        "    batch = data[i:i_end].to_dict(orient=\"records\")\n",
        "    # get batch of data\n",
        "    metadata = [{\n",
        "        \"title\": r[\"title\"],\n",
        "        \"content\": r[\"content\"],\n",
        "        \"arxiv_id\": r[\"arxiv_id\"],\n",
        "        \"references\": r[\"references\"].tolist()\n",
        "    } for r in batch]\n",
        "    # generate unique ids for each chunk\n",
        "    ids = [r[\"id\"] for r in batch]\n",
        "    # get text content to embed\n",
        "    content = [r[\"content\"] for r in batch]\n",
        "    # embed text\n",
        "    embeds = encoder(content)\n",
        "    # add to Pinecone\n",
        "    index.upsert(vectors=zip(ids, embeds, metadata))"
      ]
    },
    {
      "cell_type": "markdown",
      "metadata": {
        "id": "hITmdwQ7Qns0"
      },
      "source": [
        "## Graph State\n",
        "\n",
        "We will define a custom graph state to support our agent-oriented decision making."
      ]
    },
    {
      "cell_type": "code",
      "execution_count": 21,
      "metadata": {
        "id": "x7Fj9KNjQvUq"
      },
      "outputs": [],
      "source": [
        "from typing import TypedDict, Annotated, List, Union\n",
        "from langchain_core.agents import AgentAction, AgentFinish\n",
        "from langchain_core.messages import BaseMessage\n",
        "import operator\n",
        "\n",
        "\n",
        "class AgentState(TypedDict):\n",
        "    input: str\n",
        "    chat_history: list[BaseMessage]\n",
        "    intermediate_steps: Annotated[list[tuple[AgentAction, str]], operator.add]"
      ]
    },
    {
      "cell_type": "markdown",
      "metadata": {
        "id": "Fp4uQFBKQdyI"
      },
      "source": [
        "There are four parts to our agent state, those are:\n",
        "\n",
        "* `input`: this is the user's most recent query, usually this would be a question that we want to answer with our research agent.\n",
        "* `chat_history`: we are building a conversational agent that can support multiple interactions, to allow previous interactions to provide additional context throughout our agent logic we include the chat history in the agent state.\n",
        "* `intermediate_steps`: provides a record of all steps the research agent will take between the user asking a question via `input` and the agent providing a final answer. This can include things like \"search arxiv\", \"perform general purpose web search\", etc. These intermediate steps are crucial to allowing the agent to follow a path of coherent actions and ultimately producing an informed final answer."
      ]
    },
    {
      "cell_type": "markdown",
      "metadata": {
        "id": "zlVbgX39Rhxj"
      },
      "source": [
        "## Custom Tools"
      ]
    },
    {
      "cell_type": "markdown",
      "metadata": {
        "id": "io-lnbpgKHzy"
      },
      "source": [
        "We will define several tools for this agent that will focus on initial data discovery, that will allow the LLM to use more tools to research more deeply via a variety of different routes."
      ]
    },
    {
      "cell_type": "markdown",
      "metadata": {
        "id": "v9MYnZvtF9WN"
      },
      "source": [
        "### ArXiv Paper Fetch"
      ]
    },
    {
      "cell_type": "markdown",
      "metadata": {
        "id": "VQZjy5TZGAFB"
      },
      "source": [
        "The `fetch_arxiv` tool will allow our agent to get the summary of a specific paper given an ArXiv paper ID. To do this, we will simply send a GET request to arXiv and use regex to extract the paper abstract."
      ]
    },
    {
      "cell_type": "code",
      "execution_count": 22,
      "metadata": {
        "colab": {
          "base_uri": "https://localhost:8080/",
          "height": 159
        },
        "id": "B2W-V1cOGzwJ",
        "outputId": "37a39e8c-491c-448f-f0ba-86818e8353ca"
      },
      "outputs": [
        {
          "data": {
            "text/plain": [
              "'<?xml version=\"1.0\" encoding=\"UTF-8\"?>\\n<!DOCTYPE html PUBLIC \"-//W3C//DTD XHTML 1.0 Transitional//EN\" \"http://www.w3.org/TR/xhtml1/DTD/xhtml1-transitional.dtd\">\\n<html xmlns=\"http://www.w3.org/1999/xhtml\" lang=\"en\">\\n<head>\\n<title>[2401.04088] Mixtral of Experts</title>\\n<link rel=\"shortcut icon\" href=\"/favicon.ico\" type=\"image/x-icon\" />\\n<link rel=\"stylesheet\" type=\"text/css\" media=\"screen\" href=\"/css/arXiv-export.css\" />\\n<link rel=\"stylesheet\" type=\"text/css\" media=\"screen\" href=\"/bibex/bibex.css?20181009\">\\n<link rel=\"stylesheet\" type=\"text/css\" media=\"screen\" href=\"https://static.arxiv.org/static/browse/0.3.8/css/browse_search.css\" />\\n<meta name=\"citation_title\" content=\"Mixtral of Experts\" />\\n<meta name=\"citation_author\" content=\"Jiang, Albert Q.\" />\\n<meta name=\"citation_author\" content=\"Sablayrolles, Alexandre\" />\\n<meta name=\"citation_author\" content=\"Roux, Antoine\" />\\n<meta name=\"citation_author\" content=\"Mensch, Arthur\" />\\n<meta name=\"citation_author\" content=\"Savary, Blanche\" />\\n<meta name=\"citation_author\" content=\"Bamford, Chris\" />\\n<meta name=\"citation_author\" content=\"Chaplot, Devendra Singh\" />\\n<meta name=\"citation_author\" content=\"Casas, Diego de las\" />\\n<meta name=\"citation_author\" content=\"Hanna, Emma Bou\" />\\n<meta name=\"citation_author\" content=\"Bressand, Florian\" />\\n<meta name=\"citation_author\" content=\"Lengyel, Gianna\" />\\n<meta name=\"citation_author\" content=\"Bour, Guillaume\" />\\n<meta name=\"citation_author\" content=\"Lample, Guillaume\" />\\n<meta name=\"citation_author\" content=\"Lavaud, L&#xe9;lio Renard\" />\\n<meta name=\"citation_author\" content=\"Saulnier, Lucile\" />\\n<meta name=\"citation_author\" content=\"Lachaux, Marie-Anne\" />\\n<meta name=\"citation_author\" content=\"Stock, Pierre\" />\\n<meta name=\"citation_author\" content=\"Subramanian, Sandeep\" />\\n<meta name=\"citation_author\" content=\"Yang, Sophia\" />\\n<meta name=\"citation_author\" content=\"Antoniak, Szymon\" />\\n<meta name=\"citation_author\" content=\"Scao, Teven Le\" />\\n<meta name=\"citation_author\" content=\"Gervet, Th&#xe9;ophile\" />\\n<meta name=\"citation_author\" content=\"Lavril, Thibaut\" />\\n<meta name=\"citation_author\" content=\"Wang, Thomas\" />\\n<meta name=\"citation_author\" content=\"Lacroix, Timoth&#xe9;e\" />\\n<meta name=\"citation_author\" content=\"Sayed, William El\" />\\n<meta name=\"citation_date\" content=\"2024/01/08\" />\\n<meta name=\"citation_online_date\" content=\"2024/01/08\" />\\n<meta name=\"citation_pdf_url\" content=\"http://arxiv.org/pdf/2401.04088\" />\\n<meta name=\"citation_arxiv_id\" content=\"2401.04088\" />\\n<script src=\"/js/mathjaxToggle.min.js\" type=\"text/javascript\"></script>\\n\\n\\n</head>\\n<body class=\"with-cu-identity\">\\n\\n<div id=\"cu-identity\">\\n<div id=\"cu-logo\">\\n<a href=\"https://www.cornell.edu/\"><img src=\"//static.arxiv.org/icons/cu/cornell-reduced-white-SMALL.svg\" alt=\"Cornell University\" width=\"200\" border=\"0\" /></a>\\n</div>\\n<div id=\"support-ack\">\\n<a href=\"https://confluence.cornell.edu/x/ALlRF\">We gratefully acknowledge support from<br /> the Simons Foundation and University of Massachusetts Libraries, Amherst.</a>\\n</div>\\n</div>\\n<div id=\"header\">\\n<h1 class=\"header-breadcrumbs\"><a href=\"/\"><img src=\"//static.arxiv.org/images/arxiv-logo-one-color-white.svg\" aria-label=\"logo\" alt=\"arxiv logo\" width=\"85\" style=\"width:85px;margin-right:8px;\"></a> <span>&gt;</span> <a href=\"/list/cs/recent\">cs</a> <span>&gt;</span> arXiv:2401.04088</h1>\\n<div id=\"search\">\\n<form id=\"search-arxiv\" method=\"post\" action=\"/search_classic\">\\n\\n<div class=\"wrapper-search-arxiv\">\\n<input class=\"keyword-field\" type=\"text\" name=\"query\" placeholder=\"Search or Article ID\"/>\\n\\n<div class=\"filter-field\">\\n <select name=\"searchtype\">\\n<option value=\"all\" selected=\"selected\">All papers</option>\\n<option value=\"ti\">Titles</option>\\n<option value=\"au\">Authors</option>\\n<option value=\"abs\">Abstracts</option>\\n<option value=\"ft\">Full text</option>\\n</select>\\n</div>\\n<input class=\"btn-search-arxiv\" value=\"\" type=\"submit\">\\n<div class=\"links\">(<a href=\"https://info.arxiv.org/help\">Help</a> | <a href=\"/find\">Advanced search</a>)</div>\\n</div>\\n</form>\\n</div>\\n</div>\\n<div id=\"content\">\\n\\n<!--\\n<rdf:RDF xmlns:rdf=\"http://www.w3.org/1999/02/22-rdf-syntax-ns#\"\\n         xmlns:dc=\"http://purl.org/dc/elements/1.1/\"\\n         xmlns:trackback=\"http://madskills.com/public/xml/rss/module/trackback/\">\\n    <rdf:Description\\n        rdf:about=\"http://arxiv.org/abs/2401.04088\"\\n        dc:identifier=\"http://arxiv.org/abs/2401.04088\"\\n        dc:title=\"Mixtral of Experts\"\\n        trackback:ping=\"http://arxiv.org/trackback/2401.04088\" />\\n    </rdf:RDF>\\n-->\\n\\n<div id=\"abs\">\\n<div class=\"extra-services\">\\n\\n<div class=\"full-text\">\\n<span class=\"descriptor\">Full-text links:</span>\\n<h2>Download:</h2>\\n<ul>\\n<li><a href=\"/pdf/2401.04088\" accesskey=\"f\">PDF</a></li>\\n<li><a href=\"/format/2401.04088\">Other formats</a></li>\\n</ul>\\n<div class=\"abs-license\"><a href=\"http://creativecommons.org/licenses/by/4.0/\" title=\"Rights to this article\"><img src=\"/icons/licenses/by-4.0.png\"/></a></div>\\n</div><!--end full-text-->\\n\\n<div class=\"browse\">\\n<h3>Current browse context:</h3>\\n<div class=\"current\">cs.LG</div>\\n<div class=\"prevnext\"><span class=\"arrow\"><a href=\"http://arxiv.org/prevnext?site=export.arxiv.org&amp;id=2401.04088&amp;context=cs.LG&amp;function=prev\" accesskey=\"p\" title=\"previous in cs.LG (accesskey p)\">&lt;&nbsp;prev</a></span>&nbsp;|&nbsp;<span class=\"arrow\"><a href=\"http://arxiv.org/prevnext?site=export.arxiv.org&amp;id=2401.04088&amp;context=cs.LG&amp;function=next\" accesskey=\"n\" title=\"next in cs.LG (accesskey n)\">next&nbsp;&gt;</a></span>\\n<br /></div>\\n<div class=\"list\"><a href=\"/list/cs.LG/new\">new</a>&nbsp;| <a href=\"/list/cs.LG/recent\">recent</a>&nbsp;| <a href=\"/list/cs.LG/2401\">2401</a></div><h3>Change to browse by:</h3><div class=\"switch\">\\n<a href=\"/abs/2401.04088?context=cs\">cs</a><br />\\n<span class=\"subclass\"><a href=\"/abs/2401.04088?context=cs.CL\">cs.CL</a></span>\\n</div>\\n\\n</div>\\n<div class=\"extra-ref-cite\">\\n<h3>References &amp; Citations</h3><ul><li><a href=\"http://adsabs.harvard.edu/cgi-bin/bib_query?arXiv:2401.04088\">NASA ADS</a></li>\\n</ul>\\n\\n</div>\\n<div class=\"dblp\">\\n<h3><a href=\"http://www.informatik.uni-trier.de/~ley/db/\">DBLP</a> - CS Bibliography</h3><div class=\"list\">\\n<a href=\"http://www.informatik.uni-trier.de/~ley/db/journals/corr/corr2401.html#abs-2401-04088\">listing</a> | <a href=\"http://dblp.uni-trier.de/rec/bibtex/journals/corr/abs-2401-04088\">bibtex</a>\\n</div>\\n\\n</div>\\n<div class=\"bookmarks\">\\n<div class=\"what-is-this\">\\n<h3>Bookmark</h3> (<a href=\"https://info.arxiv.org/help/social_bookmarking\">what is this?</a>)\\n</div>\\n<a href=\"http://arxiv.org/ct?url=http%3A%2F%2Fwww.citeulike.org%2Fposturl%3Furl%3Dhttp%3A%2F%2Farxiv.org%2Fabs%2F2401.04088%26title%3DMixtral%2520of%2520Experts%26authors%3D&amp;v=354d162e\" title=\"Bookmark on CiteULike\"><img src=\"//static.arxiv.org/icons/social/citeulike.png\" alt=\"CiteULike logo\" /></a>\\n<a href=\"http://arxiv.org/ct?url=http%3A%2F%2Fwww.bibsonomy.org%2FBibtexHandler%3FrequTask%3Dupload%26url%3Dhttp%3A%2F%2Farxiv.org%2Fabs%2F2401.04088%26description%3DMixtral%2520of%2520Experts&amp;v=bef47afc\" title=\"Bookmark on BibSonomy\"><img src=\"//static.arxiv.org/icons/social/bibsonomy.png\" alt=\"BibSonomy logo\" /></a>\\n<a href=\"http://arxiv.org/ct?url=https%3A%2F%2Fwww.mendeley.com%2Fimport%2F%3Furl%3Dhttp%3A%2F%2Farxiv.org%2Fabs%2F2401.04088&amp;v=be336fd9\" title=\"Bookmark on Mendeley\"><img src=\"//static.arxiv.org/icons/social/mendeley.png\" alt=\"Mendeley logo\" /></a>\\n<a href=\"http://arxiv.org/ct?url=https%3A%2F%2Fdel.icio.us%2Fpost%3Furl%3Dhttp%3A%2F%2Farxiv.org%2Fabs%2F2401.04088%26description%3DMixtral%2520of%2520Experts&amp;v=827de2f6\" title=\"Bookmark on del.icio.us\"><img src=\"//static.arxiv.org/icons/social/delicious.png\" alt=\"del.icio.us logo\" /></a>\\n<a href=\"http://arxiv.org/ct?url=https%3A%2F%2Fdigg.com%2Fsubmit%3Furl%3Dhttp%3A%2F%2Farxiv.org%2Fabs%2F2401.04088%26title%3DMixtral%2520of%2520Experts&amp;v=8d5c0d57\" title=\"Bookmark on Digg\"><img src=\"//static.arxiv.org/icons/social/digg.png\" alt=\"Digg logo\" /></a>\\n<a href=\"http://arxiv.org/ct?url=https%3A%2F%2Freddit.com%2Fsubmit%3Furl%3Dhttp%3A%2F%2Farxiv.org%2Fabs%2F2401.04088%26title%3DMixtral%2520of%2520Experts&amp;v=14eafc8c\" title=\"Bookmark on Reddit\"><img src=\"//static.arxiv.org/icons/social/reddit.png\" alt=\"Reddit logo\" /></a>\\n\\n</div>\\n</div><!--end extra-services-->\\n\\n<div class=\"leftcolumn\">\\n<div class=\"subheader\">\\n<h1>Computer Science > Machine Learning</h1>\\n</div>\\n<h1 class=\"title mathjax\"><span class=\"descriptor\">Title:</span>\\nMixtral of Experts</h1>\\n<div class=\"authors\"><span class=\"descriptor\">Authors:</span>\\n<a href=\"/find/cs/1/au:+Jiang_A/0/1/0/all/0/1\">Albert Q. Jiang</a>, \\n<a href=\"/find/cs/1/au:+Sablayrolles_A/0/1/0/all/0/1\">Alexandre Sablayrolles</a>, \\n<a href=\"/find/cs/1/au:+Roux_A/0/1/0/all/0/1\">Antoine Roux</a>, \\n<a href=\"/find/cs/1/au:+Mensch_A/0/1/0/all/0/1\">Arthur Mensch</a>, \\n<a href=\"/find/cs/1/au:+Savary_B/0/1/0/all/0/1\">Blanche Savary</a>, \\n<a href=\"/find/cs/1/au:+Bamford_C/0/1/0/all/0/1\">Chris Bamford</a>, \\n<a href=\"/find/cs/1/au:+Chaplot_D/0/1/0/all/0/1\">Devendra Singh Chaplot</a>, \\n<a href=\"/find/cs/1/au:+Casas_D/0/1/0/all/0/1\">Diego de las Casas</a>, \\n<a href=\"/find/cs/1/au:+Hanna_E/0/1/0/all/0/1\">Emma Bou Hanna</a>, \\n<a href=\"/find/cs/1/au:+Bressand_F/0/1/0/all/0/1\">Florian Bressand</a>, \\n<a href=\"/find/cs/1/au:+Lengyel_G/0/1/0/all/0/1\">Gianna Lengyel</a>, \\n<a href=\"/find/cs/1/au:+Bour_G/0/1/0/all/0/1\">Guillaume Bour</a>, \\n<a href=\"/find/cs/1/au:+Lample_G/0/1/0/all/0/1\">Guillaume Lample</a>, \\n<a href=\"/find/cs/1/au:+Lavaud_L/0/1/0/all/0/1\">L&#xe9;lio Renard Lavaud</a>, \\n<a href=\"/find/cs/1/au:+Saulnier_L/0/1/0/all/0/1\">Lucile Saulnier</a>, \\n<a href=\"/find/cs/1/au:+Lachaux_M/0/1/0/all/0/1\">Marie-Anne Lachaux</a>, \\n<a href=\"/find/cs/1/au:+Stock_P/0/1/0/all/0/1\">Pierre Stock</a>, \\n<a href=\"/find/cs/1/au:+Subramanian_S/0/1/0/all/0/1\">Sandeep Subramanian</a>, \\n<a href=\"/find/cs/1/au:+Yang_S/0/1/0/all/0/1\">Sophia Yang</a>, \\n<a href=\"/find/cs/1/au:+Antoniak_S/0/1/0/all/0/1\">Szymon Antoniak</a>, \\n<a href=\"/find/cs/1/au:+Scao_T/0/1/0/all/0/1\">Teven Le Scao</a>, \\n<a href=\"/find/cs/1/au:+Gervet_T/0/1/0/all/0/1\">Th&#xe9;ophile Gervet</a>, \\n<a href=\"/find/cs/1/au:+Lavril_T/0/1/0/all/0/1\">Thibaut Lavril</a>, \\n<a href=\"/find/cs/1/au:+Wang_T/0/1/0/all/0/1\">Thomas Wang</a>, \\n<a href=\"/find/cs/1/au:+Lacroix_T/0/1/0/all/0/1\">Timoth&#xe9;e Lacroix</a>, \\n<a href=\"/find/cs/1/au:+Sayed_W/0/1/0/all/0/1\">William El Sayed</a></div>\\n<div class=\"dateline\">(Submitted on 8 Jan 2024)</div>\\n<blockquote class=\"abstract mathjax\">\\n<span class=\"descriptor\">Abstract:</span> We introduce Mixtral 8x7B, a Sparse Mixture of Experts (SMoE) language model.\\nMixtral has the same architecture as Mistral 7B, with the difference that each\\nlayer is composed of 8 feedforward blocks (i.e. experts). For every token, at\\neach layer, a router network selects two experts to process the current state\\nand combine their outputs. Even though each token only sees two experts, the\\nselected experts can be different at each timestep. As a result, each token has\\naccess to 47B parameters, but only uses 13B active parameters during inference.\\nMixtral was trained with a context size of 32k tokens and it outperforms or\\nmatches Llama 2 70B and GPT-3.5 across all evaluated benchmarks. In particular,\\nMixtral vastly outperforms Llama 2 70B on mathematics, code generation, and\\nmultilingual benchmarks. We also provide a model fine-tuned to follow\\ninstructions, Mixtral 8x7B - Instruct, that surpasses GPT-3.5 Turbo,\\nClaude-2.1, Gemini Pro, and Llama 2 70B - chat model on human benchmarks. Both\\nthe base and instruct models are released under the Apache 2.0 license.\\n</blockquote>\\n<!--CONTEXT-->\\n<div class=\"metatable\">\\n<table summary=\"Additional metadata\">\\n<tr>\\n<td class=\"tablecell label\">Comments:\\n</td>\\n<td class=\"tablecell comments mathjax\">See more details at <a href=\"https://mistral.ai/news/mixtral-of-experts/\">this https URL</a></td>\\n</tr>\\n<tr>\\n<td class=\"tablecell label\">Subjects:\\n</td>\\n<td class=\"tablecell subjects\"><span class=\"primary-subject\">Machine Learning (cs.LG)</span>; Computation and Language (cs.CL)</td>\\n</tr>\\n<tr>\\n<td class=\"tablecell label\">\\nCite&nbsp;as:\\n</td>\\n<td class=\"tablecell arxivid\"><a href=\"/abs/2401.04088\">arXiv:2401.04088</a> [cs.LG]</td>\\n</tr>\\n<tr>\\n<td class=\"tablecell label\">&nbsp;</td>\\n<td class=\"tablecell arxividv\">(or <span class=\"arxivid\"><a href=\"/abs/2401.04088v1\">arXiv:2401.04088v1</a> [cs.LG]</span> for this version)</td>\\n</tr>\\n</table>\\n</div>\\n<div class=\"submission-history\">\\n<h2>Submission history</h2>\\nFrom: Devendra Singh Chaplot [<a href=\"https://arxiv.org/show-email/d382fa4f/2401.04088\">view email</a>]\\n<br />\\n<b>[v1]</b> Mon, 8 Jan 2024 18:47:34 GMT  (2811kb,D)<br />\\n</div>\\n<div class=\"endorsers\"><a href=\"http://arxiv.org/auth/show-endorsers/2401.04088\">Which authors of this paper are endorsers?</a> | <a id=\"mathjax_toggle\" href=\"javascript:setMathjaxCookie()\">Disable MathJax</a> (<a href=\"/help/mathjax\">What is MathJax?</a>) </div><script type=\"text/javascript\" language=\"javascript\">mathjaxToggle();</script>\\n<script src=\"/bibex/bibex.js?20181009\" type=\"text/javascript\" defer></script>\\n</div><!--end leftcolumn-->\\n</div><!--end abs-->\\n<p>Link back to: <a href=\"http://arXiv.org/\">arXiv</a>, <a href=\"http://arxiv.org/form\">form interface</a>, <a href=\"/help/contact\">contact</a>.</p>\\n</div>\\n</div>\\n <footer style=\"clear: both;\">\\n      <div class=\"columns is-desktop\" role=\"navigation\" aria-label=\"Secondary\" style=\"margin: -0.75em -0.75em 0.75em -0.75em\">\\n        <!-- Macro-Column 1 -->\\n        <div class=\"column\" style=\"padding: 0;\">\\n          <div class=\"columns\">\\n            <div class=\"column\">\\n              <ul style=\"list-style: none; line-height: 2;\">\\n                <li><a href=\"https://arxiv.org/about\">About</a></li>\\n                <li><a href=\"https://arxiv.org/help\">Help</a></li>\\n              </ul>\\n            </div>\\n            <div class=\"column\">\\n              <ul style=\"list-style: none; line-height: 2;\">\\n                <li>\\n                  <svg xmlns=\"http://www.w3.org/2000/svg\" viewBox=\"0 0 512 512\" class=\"icon filter-black\" role=\"presentation\"><title>contact arXiv</title><desc>Click here to contact arXiv</desc><path d=\"M502.3 190.8c3.9-3.1 9.7-.2 9.7 4.7V400c0 26.5-21.5 48-48 48H48c-26.5 0-48-21.5-48-48V195.6c0-5 5.7-7.8 9.7-4.7 22.4 17.4 52.1 39.5 154.1 113.6 21.1 15.4 56.7 47.8 92.2 47.6 35.7.3 72-32.8 92.3-47.6 102-74.1 131.6-96.3 154-113.7zM256 320c23.2.4 56.6-29.2 73.4-41.4 132.7-96.3 142.8-104.7 173.4-128.7 5.8-4.5 9.2-11.5 9.2-18.9v-19c0-26.5-21.5-48-48-48H48C21.5 64 0 85.5 0 112v19c0 7.4 3.4 14.3 9.2 18.9 30.6 23.9 40.7 32.4 173.4 128.7 16.8 12.2 50.2 41.8 73.4 41.4z\"/></svg>\\n                  <a href=\"https://arxiv.org/help/contact\"> Contact</a>\\n                </li>\\n                <li>\\n                  <svg xmlns=\"http://www.w3.org/2000/svg\" viewBox=\"0 0 512 512\" class=\"icon filter-black\" role=\"presentation\"><title>subscribe to arXiv mailings</title><desc>Click here to subscribe</desc><path d=\"M476 3.2L12.5 270.6c-18.1 10.4-15.8 35.6 2.2 43.2L121 358.4l287.3-253.2c5.5-4.9 13.3 2.6 8.6 8.3L176 407v80.5c0 23.6 28.5 32.9 42.5 15.8L282 426l124.6 52.2c14.2 6 30.4-2.9 33-18.2l72-432C515 7.8 493.3-6.8 476 3.2z\"/></svg>\\n                  <a href=\"https://arxiv.org/help/subscribe\"> Subscribe</a>\\n                </li>\\n              </ul>\\n            </div>\\n          </div>\\n        </div>\\n        <!-- End Macro-Column 1 -->\\n        <!-- Macro-Column 2 -->\\n        <div class=\"column\" style=\"padding: 0;\">\\n          <div class=\"columns\">\\n            <div class=\"column\">\\n              <ul style=\"list-style: none; line-height: 2;\">\\n                <li><a href=\"https://arxiv.org/help/license\">Copyright</a></li>\\n                <li><a href=\"https://arxiv.org/help/policies/privacy_policy\">Privacy Policy</a></li>\\n              </ul>\\n            </div>\\n            <div class=\"column sorry-app-links\">\\n              <ul style=\"list-style: none; line-height: 2;\">\\n                <li><a href=\"https://arxiv.org/help/web_accessibility\">Web Accessibility Assistance</a></li>\\n                <li>\\n                  <p class=\"help\">\\n                    <a class=\"a11y-main-link\" href=\"https://status.arxiv.org\" target=\"_blank\">arXiv Operational Status <svg xmlns=\"http://www.w3.org/2000/svg\" viewBox=\"0 0 256 512\" class=\"icon filter-dark_grey\" role=\"presentation\"><path d=\"M224.3 273l-136 136c-9.4 9.4-24.6 9.4-33.9 0l-22.6-22.6c-9.4-9.4-9.4-24.6 0-33.9l96.4-96.4-96.4-96.4c-9.4-9.4-9.4-24.6 0-33.9L54.3 103c9.4-9.4 24.6-9.4 33.9 0l136 136c9.5 9.4 9.5 24.6.1 34z\"/></svg></a><br>\\n                    Get status notifications via\\n                    <a class=\"is-link\" href=\"https://subscribe.sorryapp.com/24846f03/email/new\" target=\"_blank\"><svg xmlns=\"http://www.w3.org/2000/svg\" viewBox=\"0 0 512 512\" class=\"icon filter-black\" role=\"presentation\"><path d=\"M502.3 190.8c3.9-3.1 9.7-.2 9.7 4.7V400c0 26.5-21.5 48-48 48H48c-26.5 0-48-21.5-48-48V195.6c0-5 5.7-7.8 9.7-4.7 22.4 17.4 52.1 39.5 154.1 113.6 21.1 15.4 56.7 47.8 92.2 47.6 35.7.3 72-32.8 92.3-47.6 102-74.1 131.6-96.3 154-113.7zM256 320c23.2.4 56.6-29.2 73.4-41.4 132.7-96.3 142.8-104.7 173.4-128.7 5.8-4.5 9.2-11.5 9.2-18.9v-19c0-26.5-21.5-48-48-48H48C21.5 64 0 85.5 0 112v19c0 7.4 3.4 14.3 9.2 18.9 30.6 23.9 40.7 32.4 173.4 128.7 16.8 12.2 50.2 41.8 73.4 41.4z\"/></svg>email</a>\\n                    or <a class=\"is-link\" href=\"https://subscribe.sorryapp.com/24846f03/slack/new\" target=\"_blank\"><svg xmlns=\"http://www.w3.org/2000/svg\" viewBox=\"0 0 448 512\" class=\"icon filter-black\" role=\"presentation\"><path d=\"M94.12 315.1c0 25.9-21.16 47.06-47.06 47.06S0 341 0 315.1c0-25.9 21.16-47.06 47.06-47.06h47.06v47.06zm23.72 0c0-25.9 21.16-47.06 47.06-47.06s47.06 21.16 47.06 47.06v117.84c0 25.9-21.16 47.06-47.06 47.06s-47.06-21.16-47.06-47.06V315.1zm47.06-188.98c-25.9 0-47.06-21.16-47.06-47.06S139 32 164.9 32s47.06 21.16 47.06 47.06v47.06H164.9zm0 23.72c25.9 0 47.06 21.16 47.06 47.06s-21.16 47.06-47.06 47.06H47.06C21.16 243.96 0 222.8 0 196.9s21.16-47.06 47.06-47.06H164.9zm188.98 47.06c0-25.9 21.16-47.06 47.06-47.06 25.9 0 47.06 21.16 47.06 47.06s-21.16 47.06-47.06 47.06h-47.06V196.9zm-23.72 0c0 25.9-21.16 47.06-47.06 47.06-25.9 0-47.06-21.16-47.06-47.06V79.06c0-25.9 21.16-47.06 47.06-47.06 25.9 0 47.06 21.16 47.06 47.06V196.9zM283.1 385.88c25.9 0 47.06 21.16 47.06 47.06 0 25.9-21.16 47.06-47.06 47.06-25.9 0-47.06-21.16-47.06-47.06v-47.06h47.06zm0-23.72c-25.9 0-47.06-21.16-47.06-47.06 0-25.9 21.16-47.06 47.06-47.06h117.84c25.9 0 47.06 21.16 47.06 47.06 0 25.9-21.16 47.06-47.06 47.06H283.1z\"/></svg>slack</a>\\n                  </p>\\n                </li>\\n              </ul>\\n            </div>\\n          </div>\\n        </div> <!-- end MetaColumn 2 -->\\n        <!-- End Macro-Column 2 -->\\n      </div>\\n    </footer>\\n</body>\\n</html>\\n'"
            ]
          },
          "execution_count": 22,
          "metadata": {},
          "output_type": "execute_result"
        }
      ],
      "source": [
        "import requests\n",
        "\n",
        "# we will test with the mixtral paper\n",
        "arxiv_id = \"2401.04088\"\n",
        "\n",
        "res = requests.get(\n",
        "    f\"https://export.arxiv.org/abs/{arxiv_id}\"\n",
        ")\n",
        "res.text"
      ]
    },
    {
      "cell_type": "markdown",
      "metadata": {
        "id": "lPbxToG5HDm_"
      },
      "source": [
        "There's a lot going on there. Fortunately, we can use some _relatively_ straightforward regex to find the paper abstract."
      ]
    },
    {
      "cell_type": "code",
      "execution_count": 23,
      "metadata": {
        "colab": {
          "base_uri": "https://localhost:8080/"
        },
        "id": "efGqEsaAF26E",
        "outputId": "e7b050f6-1104-41aa-8087-416638c6b7bf"
      },
      "outputs": [
        {
          "name": "stdout",
          "output_type": "stream",
          "text": [
            "We introduce Mixtral 8x7B, a Sparse Mixture of Experts (SMoE) language model.\n",
            "Mixtral has the same architecture as Mistral 7B, with the difference that each\n",
            "layer is composed of 8 feedforward blocks (i.e. experts). For every token, at\n",
            "each layer, a router network selects two experts to process the current state\n",
            "and combine their outputs. Even though each token only sees two experts, the\n",
            "selected experts can be different at each timestep. As a result, each token has\n",
            "access to 47B parameters, but only uses 13B active parameters during inference.\n",
            "Mixtral was trained with a context size of 32k tokens and it outperforms or\n",
            "matches Llama 2 70B and GPT-3.5 across all evaluated benchmarks. In particular,\n",
            "Mixtral vastly outperforms Llama 2 70B on mathematics, code generation, and\n",
            "multilingual benchmarks. We also provide a model fine-tuned to follow\n",
            "instructions, Mixtral 8x7B - Instruct, that surpasses GPT-3.5 Turbo,\n",
            "Claude-2.1, Gemini Pro, and Llama 2 70B - chat model on human benchmarks. Both\n",
            "the base and instruct models are released under the Apache 2.0 license.\n"
          ]
        }
      ],
      "source": [
        "import re\n",
        "\n",
        "# our regex\n",
        "abstract_pattern = re.compile(\n",
        "    r'<blockquote class=\"abstract mathjax\">\\s*<span class=\"descriptor\">Abstract:</span>\\s*(.*?)\\s*</blockquote>',\n",
        "    re.DOTALL\n",
        ")\n",
        "\n",
        "# we search\n",
        "re_match = abstract_pattern.search(res.text)\n",
        "\n",
        "# and now let's see what we got\n",
        "print(re_match.group(1))"
      ]
    },
    {
      "cell_type": "markdown",
      "metadata": {
        "id": "1vjd5FhzHpqJ"
      },
      "source": [
        "Now we pack all of this logic into a tool for our agent to use."
      ]
    },
    {
      "cell_type": "code",
      "execution_count": 24,
      "metadata": {
        "id": "jpYR2DYsHtgb"
      },
      "outputs": [],
      "source": [
        "from langchain_core.tools import tool\n",
        "\n",
        "\n",
        "@tool(\"fetch_arxiv\")\n",
        "def fetch_arxiv(arxiv_id: str):\n",
        "    \"\"\"Gets the abstract from an ArXiv paper given the arxiv ID. Useful for\n",
        "    finding high-level context about a specific paper.\"\"\"\n",
        "    # get paper page in html\n",
        "    res = requests.get(\n",
        "        f\"https://export.arxiv.org/abs/{arxiv_id}\"\n",
        "    )\n",
        "    # search html for abstract\n",
        "    re_match = abstract_pattern.search(res.text)\n",
        "    # return abstract text\n",
        "    return re_match.group(1)"
      ]
    },
    {
      "cell_type": "markdown",
      "metadata": {
        "id": "3uydhqzKIU2F"
      },
      "source": [
        "Let's test the tool."
      ]
    },
    {
      "cell_type": "code",
      "execution_count": 25,
      "metadata": {
        "colab": {
          "base_uri": "https://localhost:8080/"
        },
        "id": "yeEnI3V7IVDe",
        "outputId": "b2d50557-a82e-49e3-e5a6-56dabd421a92"
      },
      "outputs": [
        {
          "name": "stdout",
          "output_type": "stream",
          "text": [
            "We introduce Mixtral 8x7B, a Sparse Mixture of Experts (SMoE) language model.\n",
            "Mixtral has the same architecture as Mistral 7B, with the difference that each\n",
            "layer is composed of 8 feedforward blocks (i.e. experts). For every token, at\n",
            "each layer, a router network selects two experts to process the current state\n",
            "and combine their outputs. Even though each token only sees two experts, the\n",
            "selected experts can be different at each timestep. As a result, each token has\n",
            "access to 47B parameters, but only uses 13B active parameters during inference.\n",
            "Mixtral was trained with a context size of 32k tokens and it outperforms or\n",
            "matches Llama 2 70B and GPT-3.5 across all evaluated benchmarks. In particular,\n",
            "Mixtral vastly outperforms Llama 2 70B on mathematics, code generation, and\n",
            "multilingual benchmarks. We also provide a model fine-tuned to follow\n",
            "instructions, Mixtral 8x7B - Instruct, that surpasses GPT-3.5 Turbo,\n",
            "Claude-2.1, Gemini Pro, and Llama 2 70B - chat model on human benchmarks. Both\n",
            "the base and instruct models are released under the Apache 2.0 license.\n"
          ]
        }
      ],
      "source": [
        "print(\n",
        "    fetch_arxiv.invoke(input={\"arxiv_id\": arxiv_id})\n",
        ")"
      ]
    },
    {
      "cell_type": "markdown",
      "metadata": {
        "id": "vLX1N7oWKiNZ"
      },
      "source": [
        "### Web Search"
      ]
    },
    {
      "cell_type": "markdown",
      "metadata": {
        "id": "FsOutTz9KjoL"
      },
      "source": [
        "The web search tool will provide the agent with access to web search. It will be instructed to use this for more general knowledge queries."
      ]
    },
    {
      "cell_type": "code",
      "execution_count": 28,
      "metadata": {
        "id": "vuv_exwsH8ZJ"
      },
      "outputs": [],
      "source": [
        "from serpapi import GoogleSearch\n",
        "\n",
        "serpapi_params = {\n",
        "    \"engine\": \"google\",\n",
        "    \"api_key\": os.getenv(\"SERPAPI_KEY\") or getpass(\"SerpAPI key: \")\n",
        "}\n",
        "\n",
        "search = GoogleSearch({\n",
        "    **serpapi_params,\n",
        "    \"q\": \"coffee\"\n",
        "})\n",
        "\n",
        "results = search.get_dict()[\"organic_results\"]"
      ]
    },
    {
      "cell_type": "code",
      "execution_count": 29,
      "metadata": {
        "id": "KklJP-XSTqLG"
      },
      "outputs": [],
      "source": [
        "contexts = \"\\n---\\n\".join(\n",
        "    [\"\\n\".join([x[\"title\"], x[\"snippet\"], x[\"link\"]]) for x in results]\n",
        ")"
      ]
    },
    {
      "cell_type": "code",
      "execution_count": 30,
      "metadata": {
        "colab": {
          "base_uri": "https://localhost:8080/"
        },
        "id": "_b083gU3T-8K",
        "outputId": "830662a7-f719-4678-8ea5-85c86d4d5b24"
      },
      "outputs": [
        {
          "name": "stdout",
          "output_type": "stream",
          "text": [
            "Coffee\n",
            "Coffee is a beverage brewed from roasted, ground coffee beans. Darkly colored, bitter, and slightly acidic, coffee has a stimulating effect on humans, ...\n",
            "https://en.wikipedia.org/wiki/Coffee\n",
            "---\n",
            "Peet's Coffee | The Original Craft Coffee, Est. 1966\n",
            "Since 1966, Peet's Coffee has sourced and offered superior coffees and teas and adhering to strict high-quality and taste standards. Shop today.\n",
            "https://www.peets.com/\n",
            "---\n",
            "r/Coffee\n",
            "thread where you can share what you are brewing or ask for bean recommendations. This is a place to share and talk about your favorite coffee roasters or beans.\n",
            "https://www.reddit.com/r/Coffee/\n",
            "---\n",
            "Starbucks Coffee Company\n",
            "More than just great coffee. Explore the menu, sign up for Starbucks® Rewards, manage your gift card and more.\n",
            "https://www.starbucks.com/\n",
            "---\n",
            "The Coffee Bean & Tea Leaf | CBTL\n",
            "We're passionate about delivering the best handcrafted products and take pride in the journey from seed to cup.\n",
            "https://coffeebean.com/\n",
            "---\n",
            "Specialty Coffee Lake Tahoe - All Coffees\n",
            "DRINK COFFEE DO STUFF, Lake Tahoe's specialty coffee roaster, offers blends and single origin coffees; great for drip, espresso and pour overs.\n",
            "https://drinkcoffeedostuff.com/collections/all-coffees?srsltid=AfmBOooejiffOswwvepqiURcClVGEWlTnI7I6pTEGTNqlJo-QW9JTq6c\n",
            "---\n",
            "Coffee Coffee - Bel Air\n",
            "Coffee Coffee, repeatedly voted Harford County's BEST, is your go-to spot for freshly roasted coffee, tea and foodie products, breakfast and lunch, unique gifts ...\n",
            "https://www.coffeecoffee-online.com/\n"
          ]
        }
      ],
      "source": [
        "print(contexts)"
      ]
    },
    {
      "cell_type": "markdown",
      "metadata": {
        "id": "ZtmOt4nQH4KS"
      },
      "source": [
        "We put this process into a tool:"
      ]
    },
    {
      "cell_type": "code",
      "execution_count": 31,
      "metadata": {
        "id": "TYmOL54xH6GH"
      },
      "outputs": [],
      "source": [
        "@tool(\"web_search\")\n",
        "def web_search(query: str):\n",
        "    \"\"\"Finds general knowledge information using Google search. Can also be used\n",
        "    to augment more 'general' knowledge to a previous specialist query.\"\"\"\n",
        "    search = GoogleSearch({\n",
        "        **serpapi_params,\n",
        "        \"q\": query,\n",
        "        \"num\": 5\n",
        "    })\n",
        "    results = search.get_dict()[\"organic_results\"]\n",
        "    contexts = \"\\n---\\n\".join(\n",
        "        [\"\\n\".join([x[\"title\"], x[\"snippet\"], x[\"link\"]]) for x in results]\n",
        "    )\n",
        "    return contexts"
      ]
    },
    {
      "cell_type": "markdown",
      "metadata": {
        "id": "oCBZjWfAIN0N"
      },
      "source": [
        "### RAG Tools"
      ]
    },
    {
      "cell_type": "markdown",
      "metadata": {
        "id": "zY37AFP6RBOP"
      },
      "source": [
        "We provide two RAG-focused tools for our agent. The `rag_search` allows the agent to perform a simple RAG search for some information across _all_ indexed research papers. The `rag_search_filter` also searches, but _within_ a specific paper which is filtered for via the `arxiv_id` parameter.\n",
        "\n",
        "We also define the `format_rag_contexts` function to handle the transformation of our Pinecone results from a JSON object to a readble plaintext format."
      ]
    },
    {
      "cell_type": "code",
      "execution_count": 69,
      "metadata": {
        "id": "SPcrbQfdRrda"
      },
      "outputs": [],
      "source": [
        "from langchain_core.tools import tool\n",
        "\n",
        "def format_rag_contexts(matches: list):\n",
        "    contexts = []\n",
        "    for x in matches:\n",
        "        text = (\n",
        "            f\"Title: {x['metadata']['title']}\\n\"\n",
        "            f\"Content: {x['metadata']['content']}\\n\"\n",
        "            f\"ArXiv ID: {x['metadata']['arxiv_id']}\\n\"\n",
        "            f\"Related Papers: {x['metadata']['references']}\\n\"\n",
        "        )\n",
        "        contexts.append(text)\n",
        "    context_str = \"\\n---\\n\".join(contexts)\n",
        "    return context_str\n",
        "\n",
        "@tool(\"rag_search_filter\")\n",
        "def rag_search_filter(query: str, arxiv_id: str):\n",
        "    \"\"\"Finds information from our ArXiv database using a natural language query\n",
        "    and a specific ArXiv ID. Allows us to learn more details about a specific paper.\"\"\"\n",
        "    xq = encoder([query])\n",
        "    xc = index.query(vector=xq, top_k=6, include_metadata=True, filter={\"arxiv_id\": arxiv_id})\n",
        "    context_str = format_rag_contexts(xc[\"matches\"])\n",
        "    return context_str\n",
        "\n",
        "@tool(\"rag_search\")\n",
        "def rag_search(query: str):\n",
        "    \"\"\"Finds specialist information on AI using a natural language query.\"\"\"\n",
        "    xq = encoder([query])\n",
        "    xc = index.query(vector=xq, top_k=2, include_metadata=True)\n",
        "    context_str = format_rag_contexts(xc[\"matches\"])\n",
        "    return context_str"
      ]
    },
    {
      "cell_type": "markdown",
      "metadata": {},
      "source": [
        "### Random tool\n",
        "if question is related to Sandeep, call this tool"
      ]
    },
    {
      "cell_type": "code",
      "execution_count": 70,
      "metadata": {},
      "outputs": [],
      "source": [
        "@tool(\"sandeep\")\n",
        "def sandeep(query: str):\n",
        "    \"\"\"Calls sandeep when users asks to send the topic name to Sandeep.\"\"\"\n",
        "    return f\"Received topic : {query}\""
      ]
    },
    {
      "cell_type": "markdown",
      "metadata": {
        "id": "KDBmpJ0URzKS"
      },
      "source": [
        "### Final Answer"
      ]
    },
    {
      "cell_type": "markdown",
      "metadata": {
        "id": "bWVKYuQ6R6nB"
      },
      "source": [
        "Finally, we define a \"final answer\" tool. This isn't a tool in the usual sense, instead we use it to force a particular output format from our LLM via the function/tool calling."
      ]
    },
    {
      "cell_type": "code",
      "execution_count": 33,
      "metadata": {
        "id": "UIjAlcHdfJCG"
      },
      "outputs": [],
      "source": [
        "@tool(\"final_answer\")\n",
        "def final_answer(\n",
        "    introduction: str,\n",
        "    research_steps: str,\n",
        "    main_body: str,\n",
        "    conclusion: str,\n",
        "    sources: str\n",
        "):\n",
        "    \"\"\"Returns a natural language response to the user in the form of a research\n",
        "    report. There are several sections to this report, those are:\n",
        "    - `introduction`: a short paragraph introducing the user's question and the\n",
        "    topic we are researching.\n",
        "    - `research_steps`: a few bullet points explaining the steps that were taken\n",
        "    to research your report.\n",
        "    - `main_body`: this is where the bulk of high quality and concise\n",
        "    information that answers the user's question belongs. It is 3-4 paragraphs\n",
        "    long in length.\n",
        "    - `conclusion`: this is a short single paragraph conclusion providing a\n",
        "    concise but sophisticated view on what was found.\n",
        "    - `sources`: a bulletpoint list provided detailed sources for all information\n",
        "    referenced during the research process\n",
        "    \"\"\"\n",
        "    if type(research_steps) is list:\n",
        "        research_steps = \"\\n\".join([f\"- {r}\" for r in research_steps])\n",
        "    if type(sources) is list:\n",
        "        sources = \"\\n\".join([f\"- {s}\" for s in sources])\n",
        "    return \"\""
      ]
    },
    {
      "cell_type": "markdown",
      "metadata": {
        "id": "E8OsQ3tIS-_t"
      },
      "source": [
        "## Initialize the \"Oracle\""
      ]
    },
    {
      "cell_type": "markdown",
      "metadata": {
        "id": "YykLRD5rXfr5"
      },
      "source": [
        "The **Oracle** LLM is our graph's decision maker. It decides which path we should take down our graph. It functions similarly to an agent but is much simpler and reliable.\n",
        "\n",
        "The Oracle consists of an LLM provided with a set of potential function calls (ie our tools) that it can decide to use — we force it to use _at least_ one of those tool using the `tool_choice=\"any\"` setting (see below). Our Oracle only makes the decision to use a tool, it doesn't execute the tool code itself (we do that seperately in our graph)."
      ]
    },
    {
      "cell_type": "markdown",
      "metadata": {
        "id": "lRlREI1wYSd0"
      },
      "source": [
        "### Oracle Prompt"
      ]
    },
    {
      "cell_type": "markdown",
      "metadata": {
        "id": "OFE638_CYUbf"
      },
      "source": [
        "Our prompt for the Oracle will emphasize it's decision making ability within the `system_prompt`, leave a placeholder for us to later insert `chat_history`, and provide a place for us to insert the user `input`."
      ]
    },
    {
      "cell_type": "code",
      "execution_count": 34,
      "metadata": {
        "id": "FBZrvHDAYmOP"
      },
      "outputs": [],
      "source": [
        "from langchain_core.prompts import ChatPromptTemplate, MessagesPlaceholder\n",
        "\n",
        "system_prompt = \"\"\"You are the oracle, the great AI decision maker.\n",
        "Given the user's query you must decide what to do with it based on the\n",
        "list of tools provided to you.\n",
        "\n",
        "If you see that a tool has been used (in the scratchpad) with a particular\n",
        "query, do NOT use that same tool with the same query again. Also, do NOT use\n",
        "any tool more than twice (ie, if the tool appears in the scratchpad twice, do\n",
        "not use it again).\n",
        "\n",
        "You should aim to collect information from a diverse range of sources before\n",
        "providing the answer to the user. Once you have collected plenty of information\n",
        "to answer the user's question (stored in the scratchpad) use the final_answer\n",
        "tool.\"\"\"\n",
        "\n",
        "prompt = ChatPromptTemplate.from_messages([\n",
        "    (\"system\", system_prompt),\n",
        "    MessagesPlaceholder(variable_name=\"chat_history\"),\n",
        "    (\"user\", \"{input}\"),\n",
        "    (\"assistant\", \"scratchpad: {scratchpad}\"),\n",
        "])"
      ]
    },
    {
      "cell_type": "markdown",
      "metadata": {
        "id": "euGh0137Ynxv"
      },
      "source": [
        "Next, we must initialize our `llm` (for this we use `gpt-4o`) and then create the _runnable_ pipeline of our Oracle.\n",
        "\n",
        "The runnable connects our inputs (the user `input` and `chat_history`) to our `prompt`, and our `prompt` to our `llm`. It is also where we _bind_ our tools to the LLM and enforce function calling via `tool_choice=\"any\"`."
      ]
    },
    {
      "cell_type": "code",
      "execution_count": 71,
      "metadata": {
        "id": "0gKxRe4tTBHX"
      },
      "outputs": [],
      "source": [
        "from langchain_core.messages import ToolCall, ToolMessage\n",
        "from langchain_openai import ChatOpenAI\n",
        "\n",
        "llm = ChatOpenAI(\n",
        "    model=\"gpt-4o-mini\",\n",
        "    openai_api_key=os.environ[\"OPENAI_API_KEY\"],\n",
        "    temperature=0\n",
        ")\n",
        "\n",
        "tools=[\n",
        "    rag_search_filter,\n",
        "    rag_search,\n",
        "    fetch_arxiv,\n",
        "    web_search,\n",
        "    sandeep,\n",
        "    final_answer\n",
        "]\n",
        "\n",
        "# define a function to transform intermediate_steps from list of AgentAction to scratchpad string\n",
        "def create_scratchpad(intermediate_steps: list[AgentAction]):\n",
        "    research_steps = []\n",
        "    for i, action in enumerate(intermediate_steps):\n",
        "        if action.log != \"TBD\":\n",
        "            # this was the ToolExecution\n",
        "            research_steps.append(\n",
        "                f\"Tool: {action.tool}, input: {action.tool_input}\\n\"\n",
        "                f\"Output: {action.log}\"\n",
        "            )\n",
        "    return \"\\n---\\n\".join(research_steps)\n",
        "\n",
        "oracle = (\n",
        "    {\n",
        "        \"input\": lambda x: x[\"input\"],\n",
        "        \"chat_history\": lambda x: x[\"chat_history\"],\n",
        "        \"scratchpad\": lambda x: create_scratchpad(\n",
        "            intermediate_steps=x[\"intermediate_steps\"]\n",
        "        ),\n",
        "    }\n",
        "    | prompt\n",
        "    | llm.bind_tools(tools, tool_choice=\"any\")\n",
        ")"
      ]
    },
    {
      "cell_type": "markdown",
      "metadata": {
        "id": "ESCSupKbTuVR"
      },
      "source": [
        "Test the agent quickly to confirm it is functional:"
      ]
    },
    {
      "cell_type": "code",
      "execution_count": 72,
      "metadata": {
        "colab": {
          "base_uri": "https://localhost:8080/"
        },
        "id": "p5xMQ8ajTxFQ",
        "outputId": "0e7b08bc-9b32-425b-cf57-8255b4b6591b"
      },
      "outputs": [
        {
          "data": {
            "text/plain": [
              "AIMessage(content='', additional_kwargs={'tool_calls': [{'id': 'call_20cOPbvkaZ0xuJJjtfBcfjlV', 'function': {'arguments': '{\"query\":\"interesting facts about dogs\"}', 'name': 'web_search'}, 'type': 'function'}]}, response_metadata={'token_usage': {'completion_tokens': 18, 'prompt_tokens': 571, 'total_tokens': 589, 'completion_tokens_details': {'accepted_prediction_tokens': 0, 'audio_tokens': 0, 'reasoning_tokens': 0, 'rejected_prediction_tokens': 0}, 'prompt_tokens_details': {'audio_tokens': 0, 'cached_tokens': 0}}, 'model_name': 'gpt-4o-mini-2024-07-18', 'system_fingerprint': 'fp_00428b782a', 'finish_reason': 'tool_calls', 'logprobs': None}, id='run-0b394241-7ec1-4a04-9d1e-b0bf61b3533a-0', tool_calls=[{'name': 'web_search', 'args': {'query': 'interesting facts about dogs'}, 'id': 'call_20cOPbvkaZ0xuJJjtfBcfjlV'}], usage_metadata={'input_tokens': 571, 'output_tokens': 18, 'total_tokens': 589})"
            ]
          },
          "execution_count": 72,
          "metadata": {},
          "output_type": "execute_result"
        }
      ],
      "source": [
        "inputs = {\n",
        "    \"input\": \"tell me something interesting about dogs\",\n",
        "    \"chat_history\": [],\n",
        "    \"intermediate_steps\": [],\n",
        "}\n",
        "out = oracle.invoke(inputs)\n",
        "out"
      ]
    },
    {
      "cell_type": "markdown",
      "metadata": {
        "id": "zTwZ-7ZtZXq2"
      },
      "source": [
        "It is running but we are returning a lot of output here, we can narrow this down to what we need — ie, the chosen tool name and generated input args for the tool."
      ]
    },
    {
      "cell_type": "code",
      "execution_count": 102,
      "metadata": {
        "colab": {
          "base_uri": "https://localhost:8080/",
          "height": 55
        },
        "id": "u7wUMr2BUBt7",
        "outputId": "c32b2241-8657-4845-da30-78519e8b9473"
      },
      "outputs": [
        {
          "data": {
            "text/plain": [
              "'sandeep'"
            ]
          },
          "execution_count": 102,
          "metadata": {},
          "output_type": "execute_result"
        }
      ],
      "source": [
        "out.tool_calls[0][\"name\"]"
      ]
    },
    {
      "cell_type": "code",
      "execution_count": 103,
      "metadata": {
        "colab": {
          "base_uri": "https://localhost:8080/"
        },
        "id": "se0M1pbnaFyi",
        "outputId": "f224b27c-357f-4b7d-d596-465f8c53f61f"
      },
      "outputs": [
        {
          "data": {
            "text/plain": [
              "{'query': 'discuss the topic of interesting facts about dogs'}"
            ]
          },
          "execution_count": 103,
          "metadata": {},
          "output_type": "execute_result"
        }
      ],
      "source": [
        "out.tool_calls[0][\"args\"]"
      ]
    },
    {
      "cell_type": "markdown",
      "metadata": {
        "id": "lbO6IMEZaK4q"
      },
      "source": [
        "We can see now that our Oracle decided to use the `web_search` tool with a `query` of `\"interesting facts about dogs\"` — a good choice."
      ]
    },
    {
      "cell_type": "markdown",
      "metadata": {
        "id": "h6pAxC9kcY1F"
      },
      "source": [
        "## Define Nodes for Graph"
      ]
    },
    {
      "cell_type": "markdown",
      "metadata": {
        "id": "o8ykjVWoa0kz"
      },
      "source": [
        "We will be passing the tool use decision to our `router` which will _route_ the output to the chosen node component to run (we define these below) based on the `out.tool_calls[0][\"name\"]` value."
      ]
    },
    {
      "cell_type": "code",
      "execution_count": 57,
      "metadata": {
        "id": "LcRVPIuAgcoG"
      },
      "outputs": [],
      "source": [
        "def run_oracle(state: list):\n",
        "    print(\"run_oracle\")\n",
        "    print(\"History : \", state['chat_history'])\n",
        "    print(f\"intermediate_steps: {state['intermediate_steps']}\")\n",
        "    out = oracle.invoke(state)\n",
        "    tool_name = out.tool_calls[0][\"name\"]\n",
        "    tool_args = out.tool_calls[0][\"args\"]\n",
        "    action_out = AgentAction(\n",
        "        tool=tool_name,\n",
        "        tool_input=tool_args,\n",
        "        log=\"TBD\"\n",
        "    )\n",
        "    return {\n",
        "        \"intermediate_steps\": [action_out]\n",
        "    }\n",
        "\n",
        "def router(state: list):\n",
        "    # return the tool name to use\n",
        "    if isinstance(state[\"intermediate_steps\"], list):\n",
        "        return state[\"intermediate_steps\"][-1].tool\n",
        "    else:\n",
        "        # if we output bad format go to final answer\n",
        "        print(\"Router invalid format\")\n",
        "        return \"final_answer\""
      ]
    },
    {
      "cell_type": "markdown",
      "metadata": {
        "id": "PtBEhoDOSOCQ"
      },
      "source": [
        "All of our tools can be run using the same function logic, which we define with `run_tool`. The input parameters to our tool call and the resultant output are added to our graph state's `intermediate_steps` parameter."
      ]
    },
    {
      "cell_type": "code",
      "execution_count": 75,
      "metadata": {
        "id": "-JGJGvDVcbvq"
      },
      "outputs": [],
      "source": [
        "tool_str_to_func = {\n",
        "    \"rag_search_filter\": rag_search_filter,\n",
        "    \"rag_search\": rag_search,\n",
        "    \"fetch_arxiv\": fetch_arxiv,\n",
        "    \"web_search\": web_search,\n",
        "    \"sandeep\": sandeep,\n",
        "    \"final_answer\": final_answer\n",
        "}\n",
        "\n",
        "def run_tool(state: list):\n",
        "    # use this as helper function so we repeat less code\n",
        "    tool_name = state[\"intermediate_steps\"][-1].tool\n",
        "    tool_args = state[\"intermediate_steps\"][-1].tool_input\n",
        "    print(f\"{tool_name}.invoke(input={tool_args})\")\n",
        "    # run tool\n",
        "    out = tool_str_to_func[tool_name].invoke(input=tool_args)\n",
        "    action_out = AgentAction(\n",
        "        tool=tool_name,\n",
        "        tool_input=tool_args,\n",
        "        log=str(out)\n",
        "    )\n",
        "    return {\"intermediate_steps\": [action_out]}"
      ]
    },
    {
      "cell_type": "markdown",
      "metadata": {
        "id": "zwv4EsTKeZzh"
      },
      "source": [
        "## Define Graph"
      ]
    },
    {
      "cell_type": "code",
      "execution_count": 116,
      "metadata": {
        "id": "LAkcBE5pebXv"
      },
      "outputs": [],
      "source": [
        "from langgraph.graph import StateGraph, END\n",
        "\n",
        "graph = StateGraph(AgentState)\n",
        "\n",
        "graph.add_node(\"oracle\", run_oracle)\n",
        "graph.add_node(\"rag_search_filter\", run_tool)\n",
        "graph.add_node(\"rag_search\", run_tool)\n",
        "graph.add_node(\"fetch_arxiv\", run_tool)\n",
        "graph.add_node(\"web_search\", run_tool)\n",
        "graph.add_node(\"sandeep\", run_tool)\n",
        "graph.add_node(\"final_answer\", run_tool)\n",
        "\n",
        "graph.set_entry_point(\"oracle\")\n",
        "\n",
        "graph.add_conditional_edges(\n",
        "    source=\"oracle\",  # where in graph to start\n",
        "    path=router,  # function to determine which node is called\n",
        ")\n",
        "\n",
        "# create edges from each tool back to the oracle\n",
        "for tool_obj in tools:\n",
        "    if tool_obj.name != \"final_answer\" and tool_obj.name != \"sandeep\":\n",
        "        graph.add_edge(tool_obj.name, \"oracle\")\n",
        "\n",
        "graph.add_edge(\"sandeep\", END)\n",
        "\n",
        "# if anything goes to final answer, it must then move to END\n",
        "graph.add_edge(\"final_answer\", END)\n",
        "\n",
        "runnable = graph.compile()"
      ]
    },
    {
      "cell_type": "code",
      "execution_count": 117,
      "metadata": {
        "colab": {
          "base_uri": "https://localhost:8080/",
          "height": 467
        },
        "id": "EmwkoQkthb__",
        "outputId": "f2cd4b01-b9f6-49c2-e4bf-3c235ec15aa0"
      },
      "outputs": [
        {
          "data": {
            "image/png": "[encoded data removed]",
            "text/plain": [
              "<IPython.core.display.Image object>"
            ]
          },
          "execution_count": 117,
          "metadata": {},
          "output_type": "execute_result"
        }
      ],
      "source": [
        "from IPython.display import Image\n",
        "\n",
        "Image(runnable.get_graph().draw_png())"
      ]
    },
    {
      "cell_type": "markdown",
      "metadata": {
        "id": "QmrXAdCwiN8N"
      },
      "source": [
        "## Building Reports"
      ]
    },
    {
      "cell_type": "markdown",
      "metadata": {
        "id": "nPJiet2niPnQ"
      },
      "source": [
        "Let's test our research agent. First, I want to try on something simple (although not within the intended use-case of our agent):"
      ]
    },
    {
      "cell_type": "code",
      "execution_count": 118,
      "metadata": {
        "colab": {
          "base_uri": "https://localhost:8080/"
        },
        "id": "eghr8ZBI-IJL",
        "outputId": "620075bc-51cb-444c-8cd9-9580790f0f7f"
      },
      "outputs": [
        {
          "name": "stdout",
          "output_type": "stream",
          "text": [
            "run_oracle\n",
            "History :  []\n",
            "intermediate_steps: []\n",
            "web_search.invoke(input={'query': 'interesting facts about dogs'})\n",
            "run_oracle\n",
            "History :  []\n",
            "intermediate_steps: [AgentAction(tool='web_search', tool_input={'query': 'interesting facts about dogs'}, log='TBD'), AgentAction(tool='web_search', tool_input={'query': 'interesting facts about dogs'}, log=\"Interesting Facts About Dogs\\n– When a puppy is born, he is blind, deaf, and toothless. – All dogs, regardless of breed, are direct descendants of wolves and technically of the same species.\\nhttps://www.mspca.org/pet_resources/interesting-facts-about-dogs/\\n---\\n30 Fun and Fascinating Dog Facts\\n6. A dog's sense of smell is legendary, but did you know that their nose has as many as 300 million receptors? In comparison, a human nose has about 5 million.\\nhttps://www.akc.org/expert-advice/lifestyle/dog-facts/\\n---\\nDog facts for kids!\\nDog facts! · 1. Dogs are the most popular pet on the planet! · 2. They evolved from a now-extinct species of wolf. · 3. They can learn over 100 words and gestures!\\nhttps://www.natgeokids.com/uk/discover/animals/general-animals/dog-facts/\\n---\\nWhat are your favorite surprising or little known dog facts?\\nDogs have coevolved with humans for so long that they can actually read facial expressions and interpret many human gestures and body language.\\nhttps://www.reddit.com/r/dogs/comments/xqevhc/what_are_your_favorite_surprising_or_little_known/\")]\n",
            "final_answer.invoke(input={'introduction': 'Dogs are fascinating creatures that have been companions to humans for thousands of years. Their unique characteristics and abilities make them one of the most beloved pets worldwide.', 'research_steps': \"1. Conducted a web search for interesting facts about dogs. 2. Reviewed multiple sources to gather diverse information. 3. Compiled notable facts about dogs' biology, behavior, and history.\", 'main_body': 'One of the most interesting facts about dogs is their incredible sense of smell. Dogs possess up to 300 million olfactory receptors in their noses, compared to about 5 million in humans. This extraordinary ability allows them to detect scents at incredibly low concentrations, making them invaluable in search and rescue operations, as well as in detecting diseases such as cancer. \\n\\nAdditionally, dogs are known for their strong bond with humans, which has developed over thousands of years of coevolution. They can read human facial expressions and interpret gestures, showcasing their ability to communicate and connect with us on a deeper level. This emotional intelligence is one reason why dogs are often referred to as \"man\\'s best friend.\" \\n\\nMoreover, puppies are born blind, deaf, and toothless, relying entirely on their mother for care during the early stages of life. As they grow, they develop their senses and learn to navigate the world around them. Interestingly, all dog breeds are direct descendants of wolves, highlighting their shared ancestry and the domestication process that has shaped their evolution into the diverse breeds we see today.', 'conclusion': 'In summary, dogs are remarkable animals with unique abilities and a deep connection to humans. Their sense of smell, emotional intelligence, and fascinating developmental journey make them truly special companions.', 'sources': '- MSPCA: Interesting Facts About Dogs\\n- AKC: 30 Fun and Fascinating Dog Facts\\n- National Geographic Kids: Dog Facts'})\n"
          ]
        }
      ],
      "source": [
        "out = runnable.invoke({\n",
        "    \"input\": \"tell me something interesting about dogs\",\n",
        "    \"chat_history\": [],\n",
        "})"
      ]
    },
    {
      "cell_type": "code",
      "execution_count": 120,
      "metadata": {},
      "outputs": [
        {
          "data": {
            "text/plain": [
              "{'input': 'tell me something interesting about dogs',\n",
              " 'chat_history': [],\n",
              " 'intermediate_steps': [AgentAction(tool='web_search', tool_input={'query': 'interesting facts about dogs'}, log='TBD'),\n",
              "  AgentAction(tool='web_search', tool_input={'query': 'interesting facts about dogs'}, log=\"Interesting Facts About Dogs\\n– When a puppy is born, he is blind, deaf, and toothless. – All dogs, regardless of breed, are direct descendants of wolves and technically of the same species.\\nhttps://www.mspca.org/pet_resources/interesting-facts-about-dogs/\\n---\\n30 Fun and Fascinating Dog Facts\\n6. A dog's sense of smell is legendary, but did you know that their nose has as many as 300 million receptors? In comparison, a human nose has about 5 million.\\nhttps://www.akc.org/expert-advice/lifestyle/dog-facts/\\n---\\nDog facts for kids!\\nDog facts! · 1. Dogs are the most popular pet on the planet! · 2. They evolved from a now-extinct species of wolf. · 3. They can learn over 100 words and gestures!\\nhttps://www.natgeokids.com/uk/discover/animals/general-animals/dog-facts/\\n---\\nWhat are your favorite surprising or little known dog facts?\\nDogs have coevolved with humans for so long that they can actually read facial expressions and interpret many human gestures and body language.\\nhttps://www.reddit.com/r/dogs/comments/xqevhc/what_are_your_favorite_surprising_or_little_known/\"),\n",
              "  AgentAction(tool='final_answer', tool_input={'introduction': 'Dogs are fascinating creatures that have been companions to humans for thousands of years. Their unique characteristics and abilities make them one of the most beloved pets worldwide.', 'research_steps': \"1. Conducted a web search for interesting facts about dogs. 2. Reviewed multiple sources to gather diverse information. 3. Compiled notable facts about dogs' biology, behavior, and history.\", 'main_body': 'One of the most interesting facts about dogs is their incredible sense of smell. Dogs possess up to 300 million olfactory receptors in their noses, compared to about 5 million in humans. This extraordinary ability allows them to detect scents at incredibly low concentrations, making them invaluable in search and rescue operations, as well as in detecting diseases such as cancer. \\n\\nAdditionally, dogs are known for their strong bond with humans, which has developed over thousands of years of coevolution. They can read human facial expressions and interpret gestures, showcasing their ability to communicate and connect with us on a deeper level. This emotional intelligence is one reason why dogs are often referred to as \"man\\'s best friend.\" \\n\\nMoreover, puppies are born blind, deaf, and toothless, relying entirely on their mother for care during the early stages of life. As they grow, they develop their senses and learn to navigate the world around them. Interestingly, all dog breeds are direct descendants of wolves, highlighting their shared ancestry and the domestication process that has shaped their evolution into the diverse breeds we see today.', 'conclusion': 'In summary, dogs are remarkable animals with unique abilities and a deep connection to humans. Their sense of smell, emotional intelligence, and fascinating developmental journey make them truly special companions.', 'sources': '- MSPCA: Interesting Facts About Dogs\\n- AKC: 30 Fun and Fascinating Dog Facts\\n- National Geographic Kids: Dog Facts'}, log='TBD'),\n",
              "  AgentAction(tool='final_answer', tool_input={'introduction': 'Dogs are fascinating creatures that have been companions to humans for thousands of years. Their unique characteristics and abilities make them one of the most beloved pets worldwide.', 'research_steps': \"1. Conducted a web search for interesting facts about dogs. 2. Reviewed multiple sources to gather diverse information. 3. Compiled notable facts about dogs' biology, behavior, and history.\", 'main_body': 'One of the most interesting facts about dogs is their incredible sense of smell. Dogs possess up to 300 million olfactory receptors in their noses, compared to about 5 million in humans. This extraordinary ability allows them to detect scents at incredibly low concentrations, making them invaluable in search and rescue operations, as well as in detecting diseases such as cancer. \\n\\nAdditionally, dogs are known for their strong bond with humans, which has developed over thousands of years of coevolution. They can read human facial expressions and interpret gestures, showcasing their ability to communicate and connect with us on a deeper level. This emotional intelligence is one reason why dogs are often referred to as \"man\\'s best friend.\" \\n\\nMoreover, puppies are born blind, deaf, and toothless, relying entirely on their mother for care during the early stages of life. As they grow, they develop their senses and learn to navigate the world around them. Interestingly, all dog breeds are direct descendants of wolves, highlighting their shared ancestry and the domestication process that has shaped their evolution into the diverse breeds we see today.', 'conclusion': 'In summary, dogs are remarkable animals with unique abilities and a deep connection to humans. Their sense of smell, emotional intelligence, and fascinating developmental journey make them truly special companions.', 'sources': '- MSPCA: Interesting Facts About Dogs\\n- AKC: 30 Fun and Fascinating Dog Facts\\n- National Geographic Kids: Dog Facts'}, log='')]}"
            ]
          },
          "execution_count": 120,
          "metadata": {},
          "output_type": "execute_result"
        }
      ],
      "source": [
        "out"
      ]
    },
    {
      "cell_type": "markdown",
      "metadata": {},
      "source": [
        "### Add Chat History"
      ]
    },
    {
      "cell_type": "code",
      "execution_count": 121,
      "metadata": {},
      "outputs": [],
      "source": [
        "from langchain_core.messages import HumanMessage, SystemMessage\n",
        "from langchain_core.messages.ai import AIMessage\n",
        "\n",
        "messages = [\n",
        "    HumanMessage(out['input']), \n",
        "    AIMessage(str(out['intermediate_steps'][-1].tool_input))\n",
        "    ]"
      ]
    },
    {
      "cell_type": "code",
      "execution_count": 124,
      "metadata": {},
      "outputs": [
        {
          "name": "stdout",
          "output_type": "stream",
          "text": [
            "run_oracle\n",
            "History :  [HumanMessage(content='tell me something interesting about dogs'), AIMessage(content='{\\'introduction\\': \\'Dogs are fascinating creatures that have been companions to humans for thousands of years. Their unique characteristics and abilities make them one of the most beloved pets worldwide.\\', \\'research_steps\\': \"1. Conducted a web search for interesting facts about dogs. 2. Reviewed multiple sources to gather diverse information. 3. Compiled notable facts about dogs\\' biology, behavior, and history.\", \\'main_body\\': \\'One of the most interesting facts about dogs is their incredible sense of smell. Dogs possess up to 300 million olfactory receptors in their noses, compared to about 5 million in humans. This extraordinary ability allows them to detect scents at incredibly low concentrations, making them invaluable in search and rescue operations, as well as in detecting diseases such as cancer. \\\\n\\\\nAdditionally, dogs are known for their strong bond with humans, which has developed over thousands of years of coevolution. They can read human facial expressions and interpret gestures, showcasing their ability to communicate and connect with us on a deeper level. This emotional intelligence is one reason why dogs are often referred to as \"man\\\\\\'s best friend.\" \\\\n\\\\nMoreover, puppies are born blind, deaf, and toothless, relying entirely on their mother for care during the early stages of life. As they grow, they develop their senses and learn to navigate the world around them. Interestingly, all dog breeds are direct descendants of wolves, highlighting their shared ancestry and the domestication process that has shaped their evolution into the diverse breeds we see today.\\', \\'conclusion\\': \\'In summary, dogs are remarkable animals with unique abilities and a deep connection to humans. Their sense of smell, emotional intelligence, and fascinating developmental journey make them truly special companions.\\', \\'sources\\': \\'- MSPCA: Interesting Facts About Dogs\\\\n- AKC: 30 Fun and Fascinating Dog Facts\\\\n- National Geographic Kids: Dog Facts\\'}')]\n",
            "intermediate_steps: []\n",
            "sandeep.invoke(input={'query': 'Discuss interesting facts about dogs.'})\n"
          ]
        }
      ],
      "source": [
        "sandeep_out = runnable.invoke({\n",
        "    \"input\": \"call sandeep to discuss this topic\",\n",
        "    \"chat_history\": messages,\n",
        "})"
      ]
    },
    {
      "cell_type": "code",
      "execution_count": 125,
      "metadata": {},
      "outputs": [
        {
          "data": {
            "text/plain": [
              "{'input': 'call sandeep to discuss this topic',\n",
              " 'chat_history': [HumanMessage(content='tell me something interesting about dogs'),\n",
              "  AIMessage(content='{\\'introduction\\': \\'Dogs are fascinating creatures that have been companions to humans for thousands of years. Their unique characteristics and abilities make them one of the most beloved pets worldwide.\\', \\'research_steps\\': \"1. Conducted a web search for interesting facts about dogs. 2. Reviewed multiple sources to gather diverse information. 3. Compiled notable facts about dogs\\' biology, behavior, and history.\", \\'main_body\\': \\'One of the most interesting facts about dogs is their incredible sense of smell. Dogs possess up to 300 million olfactory receptors in their noses, compared to about 5 million in humans. This extraordinary ability allows them to detect scents at incredibly low concentrations, making them invaluable in search and rescue operations, as well as in detecting diseases such as cancer. \\\\n\\\\nAdditionally, dogs are known for their strong bond with humans, which has developed over thousands of years of coevolution. They can read human facial expressions and interpret gestures, showcasing their ability to communicate and connect with us on a deeper level. This emotional intelligence is one reason why dogs are often referred to as \"man\\\\\\'s best friend.\" \\\\n\\\\nMoreover, puppies are born blind, deaf, and toothless, relying entirely on their mother for care during the early stages of life. As they grow, they develop their senses and learn to navigate the world around them. Interestingly, all dog breeds are direct descendants of wolves, highlighting their shared ancestry and the domestication process that has shaped their evolution into the diverse breeds we see today.\\', \\'conclusion\\': \\'In summary, dogs are remarkable animals with unique abilities and a deep connection to humans. Their sense of smell, emotional intelligence, and fascinating developmental journey make them truly special companions.\\', \\'sources\\': \\'- MSPCA: Interesting Facts About Dogs\\\\n- AKC: 30 Fun and Fascinating Dog Facts\\\\n- National Geographic Kids: Dog Facts\\'}')],\n",
              " 'intermediate_steps': [AgentAction(tool='sandeep', tool_input={'query': 'Discuss interesting facts about dogs.'}, log='TBD'),\n",
              "  AgentAction(tool='sandeep', tool_input={'query': 'Discuss interesting facts about dogs.'}, log='Received topic : Discuss interesting facts about dogs.')]}"
            ]
          },
          "execution_count": 125,
          "metadata": {},
          "output_type": "execute_result"
        }
      ],
      "source": [
        "sandeep_out"
      ]
    },
    {
      "cell_type": "markdown",
      "metadata": {
        "id": "YjwDv5zvjACg"
      },
      "source": [
        "Let's create a function to consume the agent output and format it into our report:"
      ]
    },
    {
      "cell_type": "code",
      "execution_count": 48,
      "metadata": {
        "id": "xZxjrfBfjFPl"
      },
      "outputs": [],
      "source": [
        "def build_report(output: dict):\n",
        "    research_steps = output[\"research_steps\"]\n",
        "    if type(research_steps) is list:\n",
        "        research_steps = \"\\n\".join([f\"- {r}\" for r in research_steps])\n",
        "    sources = output[\"sources\"]\n",
        "    if type(sources) is list:\n",
        "        sources = \"\\n\".join([f\"- {s}\" for s in sources])\n",
        "    return f\"\"\"\n",
        "INTRODUCTION\n",
        "------------\n",
        "{output[\"introduction\"]}\n",
        "\n",
        "RESEARCH STEPS\n",
        "--------------\n",
        "{research_steps}\n",
        "\n",
        "REPORT\n",
        "------\n",
        "{output[\"main_body\"]}\n",
        "\n",
        "CONCLUSION\n",
        "----------\n",
        "{output[\"conclusion\"]}\n",
        "\n",
        "SOURCES\n",
        "-------\n",
        "{sources}\n",
        "\"\"\""
      ]
    },
    {
      "cell_type": "code",
      "execution_count": 49,
      "metadata": {},
      "outputs": [
        {
          "data": {
            "text/plain": [
              "{'introduction': 'Dogs are fascinating creatures that have been companions to humans for thousands of years. Their unique characteristics and abilities make them one of the most beloved pets worldwide.',\n",
              " 'research_steps': \"1. Conducted a web search for interesting facts about dogs. 2. Reviewed multiple sources to gather diverse information. 3. Compiled notable facts about dogs' abilities and history.\",\n",
              " 'main_body': 'One of the most remarkable aspects of dogs is their incredible sense of smell. Dogs possess up to 300 million olfactory receptors in their noses, compared to about 5 million in humans. This extraordinary sense allows them to detect scents at incredibly low concentrations, making them invaluable in search and rescue operations, as well as in detecting diseases such as cancer. \\n\\nAdditionally, dogs are known for their strong bond with humans, which has been cultivated over thousands of years of coevolution. They can read human facial expressions and interpret gestures, showcasing their ability to understand and respond to human emotions. This unique skill set not only enhances their role as companions but also aids in their training for various tasks, including service and therapy work.\\n\\nInterestingly, when puppies are born, they are blind, deaf, and toothless. This vulnerability highlights the dependency of young dogs on their mothers and their gradual development into the active, playful companions we know. Furthermore, all dog breeds are direct descendants of wolves, emphasizing their shared ancestry and the domestication process that has shaped their behavior and characteristics over time.',\n",
              " 'conclusion': 'In summary, dogs are not only popular pets but also remarkable animals with extraordinary abilities and a deep connection to humans. Their evolution from wolves to beloved companions is a testament to their adaptability and intelligence.',\n",
              " 'sources': '- MSPCA: Interesting Facts About Dogs\\n- AKC: 30 Fun and Fascinating Dog Facts\\n- National Geographic Kids: Dog Facts\\n- Reddit: Surprising Dog Facts'}"
            ]
          },
          "execution_count": 49,
          "metadata": {},
          "output_type": "execute_result"
        }
      ],
      "source": [
        "out[\"intermediate_steps\"][-1].tool_input"
      ]
    },
    {
      "cell_type": "code",
      "execution_count": null,
      "metadata": {
        "colab": {
          "base_uri": "https://localhost:8080/"
        },
        "id": "xjbPRhk8dhfs",
        "outputId": "bd56c2f8-b6af-44a5-9ee9-c12311ca0c50"
      },
      "outputs": [
        {
          "name": "stdout",
          "output_type": "stream",
          "text": [
            "\n",
            "INTRODUCTION\n",
            "------------\n",
            "Dogs are fascinating creatures that have been companions to humans for thousands of years. They are known for their loyalty, intelligence, and diverse abilities. Here are some interesting facts about dogs that highlight their unique characteristics and behaviors.\n",
            "\n",
            "RESEARCH STEPS\n",
            "--------------\n",
            "1. Conducted a specialist search on ArXiv for any research papers or articles related to interesting facts about dogs.\n",
            "2. Performed a web search to gather general knowledge and fun facts about dogs from various reputable sources.\n",
            "\n",
            "REPORT\n",
            "------\n",
            "Dogs were the first animals to be domesticated by humans, with evidence suggesting this occurred over 20,000 years ago. As they evolved from wolves, their physical features such as skulls, teeth, and paws became smaller. Today, there are more than 150 dog breeds, categorized into eight classes: sporting, hound, working, terrier, toy, non-sporting, herding, and miscellaneous.\n",
            "\n",
            "One of the most remarkable abilities of dogs is their sense of smell, which is 40 times better than that of humans. This extraordinary olfactory capability allows them to detect a wide range of scents, making them invaluable in roles such as search and rescue, detection of explosives, and even medical diagnosis.\n",
            "\n",
            "Dogs also have a keen sense of time. Studies have shown that they can distinguish between different durations and can be conditioned to anticipate future events, such as their feeding times. This sense of time, combined with their ability to understand human emotions and commands, makes them highly trainable and responsive companions.\n",
            "\n",
            "Additionally, dogs exhibit a range of behaviors that are both intriguing and endearing. For instance, they have been observed to dream, much like humans, and often exhibit twitching or paw movements during their sleep. Their social nature and pack mentality also mean that they thrive on companionship and can form strong bonds with both humans and other animals.\n",
            "\n",
            "CONCLUSION\n",
            "----------\n",
            "Dogs are truly remarkable animals with a rich history of domestication and a wide array of unique abilities. Their exceptional sense of smell, understanding of time, and social behaviors make them not only fascinating but also invaluable companions to humans.\n",
            "\n",
            "SOURCES\n",
            "-------\n",
            "- https://www.mspca.org/pet_resources/interesting-facts-about-dogs/\n",
            "- https://www.akc.org/expert-advice/lifestyle/dog-facts/\n",
            "- https://www.montecitopethospital.com/site/blog/2023/09/15/fun-dog-facts-kids\n",
            "- https://www.natgeokids.com/uk/discover/animals/general-animals/dog-facts/\n",
            "- https://www.thedrakecenter.com/services/dogs/blog/23-amazing-facts-about-dogs-you-probably-didnt-know\n",
            "\n"
          ]
        }
      ],
      "source": [
        "print(build_report(\n",
        "    output=out[\"intermediate_steps\"][-1].tool_input\n",
        "))"
      ]
    },
    {
      "cell_type": "markdown",
      "metadata": {
        "id": "TBgBR3PdiXIg"
      },
      "source": [
        "Now let's try with an on-topic question on AI."
      ]
    },
    {
      "cell_type": "code",
      "execution_count": 50,
      "metadata": {
        "colab": {
          "base_uri": "https://localhost:8080/"
        },
        "id": "a21f9VneePw_",
        "outputId": "5a8cba34-6819-46fc-fd30-cc58911f81f0"
      },
      "outputs": [
        {
          "name": "stdout",
          "output_type": "stream",
          "text": [
            "run_oracle\n",
            "intermediate_steps: []\n",
            "web_search.invoke(input={'query': 'artificial intelligence overview'})\n",
            "run_oracle\n",
            "intermediate_steps: [AgentAction(tool='web_search', tool_input={'query': 'artificial intelligence overview'}, log='TBD'), AgentAction(tool='web_search', tool_input={'query': 'artificial intelligence overview'}, log=\"What Is Artificial Intelligence (AI)?\\nAI is technology that enables computers and machines to simulate human learning, comprehension, problem solving, decision making, creativity and autonomy.\\nhttps://www.ibm.com/think/topics/artificial-intelligence\\n---\\nWhat Is Artificial Intelligence with Examples & Uses\\nArtificial intelligence (AI) is the simulation of human intelligence in machines that are programmed to think and act like humans.\\nhttps://www.simplilearn.com/tutorials/artificial-intelligence-tutorial/what-is-artificial-intelligence\\n---\\nOverview of Artificial Intelligence Technology\\nThe term artificial intelligence broadly refers to applications of technology to perform tasks that resemble human cognitive function.\\nhttps://www.finra.org/rules-guidance/key-topics/fintech/report/artificial-intelligence-in-the-securities-industry/overview-of-ai-tech\\n---\\nAI Overview and Definitions - Notre Dame Learning\\nArtificial intelligence (AI), in its simplest definition, is any technology/machine that can perform complex tasks that are typically associated with human ...\\nhttps://learning.nd.edu/resource-library/ai-overview-and-definitions/\\n---\\nWhat is AI (artificial intelligence)?\\nAI is a machine's ability to perform the cognitive functions we associate with human minds, such as perceiving, reasoning, learning ...\\nhttps://www.mckinsey.com/featured-insights/mckinsey-explainers/what-is-ai\")]\n",
            "final_answer.invoke(input={'introduction': 'Artificial Intelligence (AI) is a transformative technology that enables machines to perform tasks that typically require human intelligence. This includes capabilities such as learning, reasoning, problem-solving, and decision-making. AI has become a pivotal part of various industries, influencing how we interact with technology and each other.', 'research_steps': \"1. Conducted a web search to gather a broad overview of AI definitions and applications. 2. Reviewed multiple sources to ensure a comprehensive understanding of AI's capabilities and significance. 3. Compiled the information into a cohesive report.\", 'main_body': 'AI, or artificial intelligence, refers to the simulation of human intelligence in machines that are programmed to think and act like humans. This technology encompasses a variety of functions, including learning from experience, understanding natural language, recognizing patterns, and making decisions. AI systems can be categorized into two main types: narrow AI, which is designed for specific tasks (like voice assistants or recommendation systems), and general AI, which aims to perform any intellectual task that a human can do.\\n\\nThe applications of AI are vast and varied, impacting numerous sectors such as healthcare, finance, transportation, and entertainment. For instance, in healthcare, AI algorithms can analyze medical data to assist in diagnosis and treatment planning. In finance, AI is used for fraud detection and algorithmic trading. The technology is also revolutionizing transportation with the development of autonomous vehicles, which rely on AI to navigate and make real-time decisions.\\n\\nDespite its potential, AI also raises ethical and societal concerns, including issues related to privacy, job displacement, and decision-making transparency. As AI continues to evolve, it is crucial to address these challenges to harness its benefits responsibly and equitably.', 'conclusion': 'In summary, AI represents a significant advancement in technology, enabling machines to perform tasks that mimic human cognitive functions. Its applications are widespread, offering both opportunities and challenges that society must navigate as we integrate AI into our daily lives.', 'sources': '- IBM: What Is Artificial Intelligence (AI)?\\n- Simplilearn: What Is Artificial Intelligence with Examples & Uses\\n- FINRA: Overview of Artificial Intelligence Technology\\n- Notre Dame Learning: AI Overview and Definitions\\n- McKinsey: What is AI (artificial intelligence)?'})\n"
          ]
        }
      ],
      "source": [
        "out = runnable.invoke({\n",
        "    \"input\": \"tell me about AI\",\n",
        "    \"chat_history\": []\n",
        "})"
      ]
    },
    {
      "cell_type": "code",
      "execution_count": 51,
      "metadata": {
        "colab": {
          "base_uri": "https://localhost:8080/"
        },
        "id": "Vis78CFR3puz",
        "outputId": "da622cdd-510b-4996-97c1-62c6050d66ac"
      },
      "outputs": [
        {
          "name": "stdout",
          "output_type": "stream",
          "text": [
            "\n",
            "INTRODUCTION\n",
            "------------\n",
            "Artificial Intelligence (AI) is a transformative technology that enables machines to perform tasks that typically require human intelligence. This includes capabilities such as learning, reasoning, problem-solving, and decision-making. AI has become a pivotal part of various industries, influencing how we interact with technology and each other.\n",
            "\n",
            "RESEARCH STEPS\n",
            "--------------\n",
            "1. Conducted a web search to gather a broad overview of AI definitions and applications. 2. Reviewed multiple sources to ensure a comprehensive understanding of AI's capabilities and significance. 3. Compiled the information into a cohesive report.\n",
            "\n",
            "REPORT\n",
            "------\n",
            "AI, or artificial intelligence, refers to the simulation of human intelligence in machines that are programmed to think and act like humans. This technology encompasses a variety of functions, including learning from experience, understanding natural language, recognizing patterns, and making decisions. AI systems can be categorized into two main types: narrow AI, which is designed for specific tasks (like voice assistants or recommendation systems), and general AI, which aims to perform any intellectual task that a human can do.\n",
            "\n",
            "The applications of AI are vast and varied, impacting numerous sectors such as healthcare, finance, transportation, and entertainment. For instance, in healthcare, AI algorithms can analyze medical data to assist in diagnosis and treatment planning. In finance, AI is used for fraud detection and algorithmic trading. The technology is also revolutionizing transportation with the development of autonomous vehicles, which rely on AI to navigate and make real-time decisions.\n",
            "\n",
            "Despite its potential, AI also raises ethical and societal concerns, including issues related to privacy, job displacement, and decision-making transparency. As AI continues to evolve, it is crucial to address these challenges to harness its benefits responsibly and equitably.\n",
            "\n",
            "CONCLUSION\n",
            "----------\n",
            "In summary, AI represents a significant advancement in technology, enabling machines to perform tasks that mimic human cognitive functions. Its applications are widespread, offering both opportunities and challenges that society must navigate as we integrate AI into our daily lives.\n",
            "\n",
            "SOURCES\n",
            "-------\n",
            "- IBM: What Is Artificial Intelligence (AI)?\n",
            "- Simplilearn: What Is Artificial Intelligence with Examples & Uses\n",
            "- FINRA: Overview of Artificial Intelligence Technology\n",
            "- Notre Dame Learning: AI Overview and Definitions\n",
            "- McKinsey: What is AI (artificial intelligence)?\n",
            "\n"
          ]
        }
      ],
      "source": [
        "print(build_report(\n",
        "    output=out[\"intermediate_steps\"][-1].tool_input\n",
        "))"
      ]
    },
    {
      "cell_type": "markdown",
      "metadata": {
        "id": "JNyxZL4SNjhX"
      },
      "source": [
        "Let's ask about RAG specifically."
      ]
    },
    {
      "cell_type": "code",
      "execution_count": 52,
      "metadata": {
        "colab": {
          "base_uri": "https://localhost:8080/"
        },
        "id": "x0VmnWlWE6Lg",
        "outputId": "eb6cd6d7-274b-4856-b6ff-34a0dd615aab"
      },
      "outputs": [
        {
          "name": "stdout",
          "output_type": "stream",
          "text": [
            "run_oracle\n",
            "intermediate_steps: []\n",
            "rag_search.invoke(input={'query': 'retrieval augmented generation'})\n",
            "run_oracle\n",
            "intermediate_steps: [AgentAction(tool='rag_search', tool_input={'query': 'retrieval augmented generation'}, log='TBD'), AgentAction(tool='rag_search', tool_input={'query': 'retrieval augmented generation'}, log=\"Title: AutoGen: Enabling Next-Gen LLM Applications via Multi-Agent Conversation\\nContent: Due to the page limit, details of the evaluation, including case studies in three scenarios are in Appendix D. # A2: Retrieval-Augmented Code Generation and Question Answering Retrieval augmentation has emerged as a practical and effective approach for mitigating the intrinsic limitations of LLMs by incorporating external documents. In this section, we employ AutoGen to build a Retrieval-Augmented Generation (RAG) system (Lewis et al., 2020; Parvez et al., 2021) named Retrieval-augmented Chat. The system consists of two agents: a Retrieval-augmented User Proxy agent and a Retrieval-augmented Assistant agent, both of which are extended from built-in agents from AutoGen. The Retrieval-augmented User Proxy includes a vector database (Chroma, 5We did not evaluate ChatGPT on the whole dataset since it requires substantial manual effort and is re- stricted by its hourly message-number limitation. Multi-agent debate and LangChain ReAct were also not evaluated since they underperformed vanilla GPT-4 on the smaller test set.\\nArXiv ID: 2308.08155\\nRelated Papers: ['2103.03874']\\n\\n---\\nTitle: SimplyRetrieve: A Private and Lightweight Retrieval-Centric Generative AI Tool\\nContent: 2https://www.kioxia.com/en-jp/top.html 3https://huggingface.co/ehartford/ Wizard-Vicuna-13B-Uncensored 4https://huggingface.co/intfloat/ multilingual-e5-base # 4.1 Qualitative Evaluation We compare the results of three approaches: Retrieval-Centric Generation (RCG), Retrieval- Augmented Generation (RAG), and Retrieval-OFF Generation (ROG). Note that in this work, we de- fine RAG as allowing more permissible integra- tion of LLMâ s inherent and externally retrieved knowledge, whereas RCG prioritizes clear demar- cations between context interpretation and knowl- edge memorization. Investigating advanced meth- ods in extracting RCG behavior is a promising research topic. In this work, we conduct simple experiments using prompt-engineering technique to reveal the potential of RCG approach. Specifi- cally, for RCG, we employ a retrieval suffix prompt that reads â answer the following question with the provided knowledge.â For RAG, we use a less constraining prompt that reads â answer the follow- ing question. You may use the provided knowl- edge.â\\nArXiv ID: 2308.03983\\nRelated Papers: ['2302.13971']\\n\")]\n",
            "web_search.invoke(input={'query': 'retrieval augmented generation definition and applications'})\n",
            "run_oracle\n",
            "intermediate_steps: [AgentAction(tool='rag_search', tool_input={'query': 'retrieval augmented generation'}, log='TBD'), AgentAction(tool='rag_search', tool_input={'query': 'retrieval augmented generation'}, log=\"Title: AutoGen: Enabling Next-Gen LLM Applications via Multi-Agent Conversation\\nContent: Due to the page limit, details of the evaluation, including case studies in three scenarios are in Appendix D. # A2: Retrieval-Augmented Code Generation and Question Answering Retrieval augmentation has emerged as a practical and effective approach for mitigating the intrinsic limitations of LLMs by incorporating external documents. In this section, we employ AutoGen to build a Retrieval-Augmented Generation (RAG) system (Lewis et al., 2020; Parvez et al., 2021) named Retrieval-augmented Chat. The system consists of two agents: a Retrieval-augmented User Proxy agent and a Retrieval-augmented Assistant agent, both of which are extended from built-in agents from AutoGen. The Retrieval-augmented User Proxy includes a vector database (Chroma, 5We did not evaluate ChatGPT on the whole dataset since it requires substantial manual effort and is re- stricted by its hourly message-number limitation. Multi-agent debate and LangChain ReAct were also not evaluated since they underperformed vanilla GPT-4 on the smaller test set.\\nArXiv ID: 2308.08155\\nRelated Papers: ['2103.03874']\\n\\n---\\nTitle: SimplyRetrieve: A Private and Lightweight Retrieval-Centric Generative AI Tool\\nContent: 2https://www.kioxia.com/en-jp/top.html 3https://huggingface.co/ehartford/ Wizard-Vicuna-13B-Uncensored 4https://huggingface.co/intfloat/ multilingual-e5-base # 4.1 Qualitative Evaluation We compare the results of three approaches: Retrieval-Centric Generation (RCG), Retrieval- Augmented Generation (RAG), and Retrieval-OFF Generation (ROG). Note that in this work, we de- fine RAG as allowing more permissible integra- tion of LLMâ s inherent and externally retrieved knowledge, whereas RCG prioritizes clear demar- cations between context interpretation and knowl- edge memorization. Investigating advanced meth- ods in extracting RCG behavior is a promising research topic. In this work, we conduct simple experiments using prompt-engineering technique to reveal the potential of RCG approach. Specifi- cally, for RCG, we employ a retrieval suffix prompt that reads â answer the following question with the provided knowledge.â For RAG, we use a less constraining prompt that reads â answer the follow- ing question. You may use the provided knowl- edge.â\\nArXiv ID: 2308.03983\\nRelated Papers: ['2302.13971']\\n\"), AgentAction(tool='web_search', tool_input={'query': 'retrieval augmented generation definition and applications'}, log='TBD'), AgentAction(tool='web_search', tool_input={'query': 'retrieval augmented generation definition and applications'}, log='What is RAG (Retrieval-Augmented Generation)?\\nRetrieval-Augmented Generation (RAG) is the process of optimizing the output of a large language model, so it references an authoritative knowledge base ...\\nhttps://aws.amazon.com/what-is/retrieval-augmented-generation/\\n---\\nWhat Is Retrieval-Augmented Generation aka RAG\\nRetrieval-augmented generation is a technique for enhancing the accuracy and reliability of generative AI models with information from specific ...\\nhttps://blogs.nvidia.com/blog/what-is-retrieval-augmented-generation/\\n---\\nWhat is Retrieval-Augmented Generation (RAG)?\\nRAG (Retrieval-Augmented Generation) is an AI framework that combines the strengths of traditional information retrieval systems (such as search and databases)\\nhttps://cloud.google.com/use-cases/retrieval-augmented-generation\\n---\\nWhat is retrieval-augmented generation (RAG)?\\nRAG is an AI framework for improving the quality of LLM-generated responses by grounding the model on external sources of knowledge.\\nhttps://research.ibm.com/blog/retrieval-augmented-generation-RAG')]\n",
            "final_answer.invoke(input={'introduction': 'Retrieval-Augmented Generation (RAG) is an innovative approach in the field of artificial intelligence that enhances the capabilities of large language models (LLMs) by integrating external information sources. This technique aims to improve the accuracy and reliability of generative AI outputs by grounding them in authoritative knowledge bases.', 'research_steps': '1. Conducted a search for academic papers on retrieval-augmented generation to gather detailed insights.\\n2. Searched for definitions and applications of RAG in various AI contexts using web resources.\\n3. Compiled information from both academic and general knowledge sources to provide a comprehensive overview.', 'main_body': 'Retrieval-Augmented Generation (RAG) is a framework that combines the strengths of traditional information retrieval systems with generative AI models. By incorporating external documents and knowledge bases, RAG addresses the limitations of LLMs, which may struggle with factual accuracy and context relevance. The process involves retrieving pertinent information from a database or knowledge source and using it to inform the generation of responses by the AI model. This method not only enhances the quality of the generated content but also ensures that it is grounded in real-world data, making it more reliable and contextually appropriate.\\n\\nIn practical applications, RAG can be utilized in various domains such as customer support, content creation, and research assistance. For instance, in customer service, a RAG system can pull relevant information from a knowledge base to provide accurate answers to user queries. Similarly, in content generation, it can assist writers by suggesting facts or data points that enrich the narrative. The integration of retrieval mechanisms allows for a more dynamic interaction between the user and the AI, leading to improved user satisfaction and engagement.\\n\\nRecent advancements in RAG have led to the development of systems that employ multi-agent architectures, where different agents specialize in retrieval and generation tasks. This approach not only streamlines the process but also enhances the overall efficiency of the system. As research continues, the potential applications of RAG are expected to expand, further bridging the gap between information retrieval and generative AI capabilities.', 'conclusion': 'In summary, Retrieval-Augmented Generation represents a significant advancement in the field of AI, enabling models to produce more accurate and contextually relevant outputs by leveraging external knowledge sources. This approach not only enhances the performance of generative models but also opens up new avenues for their application across various industries.', 'sources': '- AWS: What is Retrieval-Augmented Generation?\\n- NVIDIA Blog: What Is Retrieval-Augmented Generation?\\n- Google Cloud: What is Retrieval-Augmented Generation (RAG)?\\n- IBM Research: What is retrieval-augmented generation (RAG)?\\n- ArXiv Paper: AutoGen: Enabling Next-Gen LLM Applications via Multi-Agent Conversation (2308.08155)\\n- ArXiv Paper: SimplyRetrieve: A Private and Lightweight Retrieval-Centric Generative AI Tool (2308.03983)'})\n"
          ]
        }
      ],
      "source": [
        "out = runnable.invoke({\n",
        "    \"input\": \"what is retrieval augmented generation?\",\n",
        "    \"chat_history\": []\n",
        "})"
      ]
    },
    {
      "cell_type": "code",
      "execution_count": 53,
      "metadata": {
        "colab": {
          "base_uri": "https://localhost:8080/"
        },
        "id": "I7LssyU4Nqis",
        "outputId": "270d7a52-6eda-438b-db15-4e2b889133bd"
      },
      "outputs": [
        {
          "name": "stdout",
          "output_type": "stream",
          "text": [
            "\n",
            "INTRODUCTION\n",
            "------------\n",
            "Retrieval-Augmented Generation (RAG) is an innovative approach in the field of artificial intelligence that enhances the capabilities of large language models (LLMs) by integrating external information sources. This technique aims to improve the accuracy and reliability of generative AI outputs by grounding them in authoritative knowledge bases.\n",
            "\n",
            "RESEARCH STEPS\n",
            "--------------\n",
            "1. Conducted a search for academic papers on retrieval-augmented generation to gather detailed insights.\n",
            "2. Searched for definitions and applications of RAG in various AI contexts using web resources.\n",
            "3. Compiled information from both academic and general knowledge sources to provide a comprehensive overview.\n",
            "\n",
            "REPORT\n",
            "------\n",
            "Retrieval-Augmented Generation (RAG) is a framework that combines the strengths of traditional information retrieval systems with generative AI models. By incorporating external documents and knowledge bases, RAG addresses the limitations of LLMs, which may struggle with factual accuracy and context relevance. The process involves retrieving pertinent information from a database or knowledge source and using it to inform the generation of responses by the AI model. This method not only enhances the quality of the generated content but also ensures that it is grounded in real-world data, making it more reliable and contextually appropriate.\n",
            "\n",
            "In practical applications, RAG can be utilized in various domains such as customer support, content creation, and research assistance. For instance, in customer service, a RAG system can pull relevant information from a knowledge base to provide accurate answers to user queries. Similarly, in content generation, it can assist writers by suggesting facts or data points that enrich the narrative. The integration of retrieval mechanisms allows for a more dynamic interaction between the user and the AI, leading to improved user satisfaction and engagement.\n",
            "\n",
            "Recent advancements in RAG have led to the development of systems that employ multi-agent architectures, where different agents specialize in retrieval and generation tasks. This approach not only streamlines the process but also enhances the overall efficiency of the system. As research continues, the potential applications of RAG are expected to expand, further bridging the gap between information retrieval and generative AI capabilities.\n",
            "\n",
            "CONCLUSION\n",
            "----------\n",
            "In summary, Retrieval-Augmented Generation represents a significant advancement in the field of AI, enabling models to produce more accurate and contextually relevant outputs by leveraging external knowledge sources. This approach not only enhances the performance of generative models but also opens up new avenues for their application across various industries.\n",
            "\n",
            "SOURCES\n",
            "-------\n",
            "- AWS: What is Retrieval-Augmented Generation?\n",
            "- NVIDIA Blog: What Is Retrieval-Augmented Generation?\n",
            "- Google Cloud: What is Retrieval-Augmented Generation (RAG)?\n",
            "- IBM Research: What is retrieval-augmented generation (RAG)?\n",
            "- ArXiv Paper: AutoGen: Enabling Next-Gen LLM Applications via Multi-Agent Conversation (2308.08155)\n",
            "- ArXiv Paper: SimplyRetrieve: A Private and Lightweight Retrieval-Centric Generative AI Tool (2308.03983)\n",
            "\n"
          ]
        }
      ],
      "source": [
        "print(build_report(\n",
        "    output=out[\"intermediate_steps\"][-1].tool_input\n",
        "))"
      ]
    },
    {
      "cell_type": "markdown",
      "metadata": {
        "id": "rp2uaRW7cAoM"
      },
      "source": [
        "---"
      ]
    }
  ],
  "metadata": {
    "colab": {
      "provenance": []
    },
    "kernelspec": {
      "display_name": "LangGraph",
      "language": "python",
      "name": "python3"
    },
    "language_info": {
      "codemirror_mode": {
        "name": "ipython",
        "version": 3
      },
      "file_extension": ".py",
      "mimetype": "text/x-python",
      "name": "python",
      "nbconvert_exporter": "python",
      "pygments_lexer": "ipython3",
      "version": "3.10.16"
    },
    "widgets": {
      "application/vnd.jupyter.widget-state+json": {
        "24a571b8cc864f60bea7ae90ef331b21": {
          "model_module": "@jupyter-widgets/controls",
          "model_module_version": "1.5.0",
          "model_name": "HTMLModel",
          "state": {
            "_dom_classes": [],
            "_model_module": "@jupyter-widgets/controls",
            "_model_module_version": "1.5.0",
            "_model_name": "HTMLModel",
            "_view_count": null,
            "_view_module": "@jupyter-widgets/controls",
            "_view_module_version": "1.5.0",
            "_view_name": "HTMLView",
            "description": "",
            "description_tooltip": null,
            "layout": "IPY_MODEL_c52a55d3643b4f1c83bdf1b1b5fce242",
            "placeholder": "​",
            "style": "IPY_MODEL_7de73bce9c0540e2b3b2c599d57ae215",
            "value": "100%"
          }
        },
        "45580486ce0742b29d0de17850c42060": {
          "model_module": "@jupyter-widgets/controls",
          "model_module_version": "1.5.0",
          "model_name": "FloatProgressModel",
          "state": {
            "_dom_classes": [],
            "_model_module": "@jupyter-widgets/controls",
            "_model_module_version": "1.5.0",
            "_model_name": "FloatProgressModel",
            "_view_count": null,
            "_view_module": "@jupyter-widgets/controls",
            "_view_module_version": "1.5.0",
            "_view_name": "ProgressView",
            "bar_style": "success",
            "description": "",
            "description_tooltip": null,
            "layout": "IPY_MODEL_84c25583658a4f4caeedbc19dd29457a",
            "max": 79,
            "min": 0,
            "orientation": "horizontal",
            "style": "IPY_MODEL_a9594c4de9734895862a48f90bc8c621",
            "value": 79
          }
        },
        "48ec484f11324501b1020314d4989da6": {
          "model_module": "@jupyter-widgets/base",
          "model_module_version": "1.2.0",
          "model_name": "LayoutModel",
          "state": {
            "_model_module": "@jupyter-widgets/base",
            "_model_module_version": "1.2.0",
            "_model_name": "LayoutModel",
            "_view_count": null,
            "_view_module": "@jupyter-widgets/base",
            "_view_module_version": "1.2.0",
            "_view_name": "LayoutView",
            "align_content": null,
            "align_items": null,
            "align_self": null,
            "border": null,
            "bottom": null,
            "display": null,
            "flex": null,
            "flex_flow": null,
            "grid_area": null,
            "grid_auto_columns": null,
            "grid_auto_flow": null,
            "grid_auto_rows": null,
            "grid_column": null,
            "grid_gap": null,
            "grid_row": null,
            "grid_template_areas": null,
            "grid_template_columns": null,
            "grid_template_rows": null,
            "height": null,
            "justify_content": null,
            "justify_items": null,
            "left": null,
            "margin": null,
            "max_height": null,
            "max_width": null,
            "min_height": null,
            "min_width": null,
            "object_fit": null,
            "object_position": null,
            "order": null,
            "overflow": null,
            "overflow_x": null,
            "overflow_y": null,
            "padding": null,
            "right": null,
            "top": null,
            "visibility": null,
            "width": null
          }
        },
        "7de73bce9c0540e2b3b2c599d57ae215": {
          "model_module": "@jupyter-widgets/controls",
          "model_module_version": "1.5.0",
          "model_name": "DescriptionStyleModel",
          "state": {
            "_model_module": "@jupyter-widgets/controls",
            "_model_module_version": "1.5.0",
            "_model_name": "DescriptionStyleModel",
            "_view_count": null,
            "_view_module": "@jupyter-widgets/base",
            "_view_module_version": "1.2.0",
            "_view_name": "StyleView",
            "description_width": ""
          }
        },
        "84c25583658a4f4caeedbc19dd29457a": {
          "model_module": "@jupyter-widgets/base",
          "model_module_version": "1.2.0",
          "model_name": "LayoutModel",
          "state": {
            "_model_module": "@jupyter-widgets/base",
            "_model_module_version": "1.2.0",
            "_model_name": "LayoutModel",
            "_view_count": null,
            "_view_module": "@jupyter-widgets/base",
            "_view_module_version": "1.2.0",
            "_view_name": "LayoutView",
            "align_content": null,
            "align_items": null,
            "align_self": null,
            "border": null,
            "bottom": null,
            "display": null,
            "flex": null,
            "flex_flow": null,
            "grid_area": null,
            "grid_auto_columns": null,
            "grid_auto_flow": null,
            "grid_auto_rows": null,
            "grid_column": null,
            "grid_gap": null,
            "grid_row": null,
            "grid_template_areas": null,
            "grid_template_columns": null,
            "grid_template_rows": null,
            "height": null,
            "justify_content": null,
            "justify_items": null,
            "left": null,
            "margin": null,
            "max_height": null,
            "max_width": null,
            "min_height": null,
            "min_width": null,
            "object_fit": null,
            "object_position": null,
            "order": null,
            "overflow": null,
            "overflow_x": null,
            "overflow_y": null,
            "padding": null,
            "right": null,
            "top": null,
            "visibility": null,
            "width": null
          }
        },
        "925f65b6b0cc47be803c021f644a8f84": {
          "model_module": "@jupyter-widgets/controls",
          "model_module_version": "1.5.0",
          "model_name": "HBoxModel",
          "state": {
            "_dom_classes": [],
            "_model_module": "@jupyter-widgets/controls",
            "_model_module_version": "1.5.0",
            "_model_name": "HBoxModel",
            "_view_count": null,
            "_view_module": "@jupyter-widgets/controls",
            "_view_module_version": "1.5.0",
            "_view_name": "HBoxView",
            "box_style": "",
            "children": [
              "IPY_MODEL_24a571b8cc864f60bea7ae90ef331b21",
              "IPY_MODEL_45580486ce0742b29d0de17850c42060",
              "IPY_MODEL_f1f07bc63a234590ac229d63217e197a"
            ],
            "layout": "IPY_MODEL_a6d67d04d1c8432c8840f411027a0e79"
          }
        },
        "a6d67d04d1c8432c8840f411027a0e79": {
          "model_module": "@jupyter-widgets/base",
          "model_module_version": "1.2.0",
          "model_name": "LayoutModel",
          "state": {
            "_model_module": "@jupyter-widgets/base",
            "_model_module_version": "1.2.0",
            "_model_name": "LayoutModel",
            "_view_count": null,
            "_view_module": "@jupyter-widgets/base",
            "_view_module_version": "1.2.0",
            "_view_name": "LayoutView",
            "align_content": null,
            "align_items": null,
            "align_self": null,
            "border": null,
            "bottom": null,
            "display": null,
            "flex": null,
            "flex_flow": null,
            "grid_area": null,
            "grid_auto_columns": null,
            "grid_auto_flow": null,
            "grid_auto_rows": null,
            "grid_column": null,
            "grid_gap": null,
            "grid_row": null,
            "grid_template_areas": null,
            "grid_template_columns": null,
            "grid_template_rows": null,
            "height": null,
            "justify_content": null,
            "justify_items": null,
            "left": null,
            "margin": null,
            "max_height": null,
            "max_width": null,
            "min_height": null,
            "min_width": null,
            "object_fit": null,
            "object_position": null,
            "order": null,
            "overflow": null,
            "overflow_x": null,
            "overflow_y": null,
            "padding": null,
            "right": null,
            "top": null,
            "visibility": null,
            "width": null
          }
        },
        "a9594c4de9734895862a48f90bc8c621": {
          "model_module": "@jupyter-widgets/controls",
          "model_module_version": "1.5.0",
          "model_name": "ProgressStyleModel",
          "state": {
            "_model_module": "@jupyter-widgets/controls",
            "_model_module_version": "1.5.0",
            "_model_name": "ProgressStyleModel",
            "_view_count": null,
            "_view_module": "@jupyter-widgets/base",
            "_view_module_version": "1.2.0",
            "_view_name": "StyleView",
            "bar_color": null,
            "description_width": ""
          }
        },
        "bfecdc3138334cd1adcd055f338060d1": {
          "model_module": "@jupyter-widgets/controls",
          "model_module_version": "1.5.0",
          "model_name": "DescriptionStyleModel",
          "state": {
            "_model_module": "@jupyter-widgets/controls",
            "_model_module_version": "1.5.0",
            "_model_name": "DescriptionStyleModel",
            "_view_count": null,
            "_view_module": "@jupyter-widgets/base",
            "_view_module_version": "1.2.0",
            "_view_name": "StyleView",
            "description_width": ""
          }
        },
        "c52a55d3643b4f1c83bdf1b1b5fce242": {
          "model_module": "@jupyter-widgets/base",
          "model_module_version": "1.2.0",
          "model_name": "LayoutModel",
          "state": {
            "_model_module": "@jupyter-widgets/base",
            "_model_module_version": "1.2.0",
            "_model_name": "LayoutModel",
            "_view_count": null,
            "_view_module": "@jupyter-widgets/base",
            "_view_module_version": "1.2.0",
            "_view_name": "LayoutView",
            "align_content": null,
            "align_items": null,
            "align_self": null,
            "border": null,
            "bottom": null,
            "display": null,
            "flex": null,
            "flex_flow": null,
            "grid_area": null,
            "grid_auto_columns": null,
            "grid_auto_flow": null,
            "grid_auto_rows": null,
            "grid_column": null,
            "grid_gap": null,
            "grid_row": null,
            "grid_template_areas": null,
            "grid_template_columns": null,
            "grid_template_rows": null,
            "height": null,
            "justify_content": null,
            "justify_items": null,
            "left": null,
            "margin": null,
            "max_height": null,
            "max_width": null,
            "min_height": null,
            "min_width": null,
            "object_fit": null,
            "object_position": null,
            "order": null,
            "overflow": null,
            "overflow_x": null,
            "overflow_y": null,
            "padding": null,
            "right": null,
            "top": null,
            "visibility": null,
            "width": null
          }
        },
        "f1f07bc63a234590ac229d63217e197a": {
          "model_module": "@jupyter-widgets/controls",
          "model_module_version": "1.5.0",
          "model_name": "HTMLModel",
          "state": {
            "_dom_classes": [],
            "_model_module": "@jupyter-widgets/controls",
            "_model_module_version": "1.5.0",
            "_model_name": "HTMLModel",
            "_view_count": null,
            "_view_module": "@jupyter-widgets/controls",
            "_view_module_version": "1.5.0",
            "_view_name": "HTMLView",
            "description": "",
            "description_tooltip": null,
            "layout": "IPY_MODEL_48ec484f11324501b1020314d4989da6",
            "placeholder": "​",
            "style": "IPY_MODEL_bfecdc3138334cd1adcd055f338060d1",
            "value": " 79/79 [04:03&lt;00:00,  2.64s/it]"
          }
        }
      }
    }
  },
  "nbformat": 4,
  "nbformat_minor": 0
}
